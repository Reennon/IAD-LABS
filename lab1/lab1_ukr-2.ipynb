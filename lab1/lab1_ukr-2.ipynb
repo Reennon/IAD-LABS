{
 "cells": [
  {
   "cell_type": "markdown",
   "metadata": {
    "id": "vxKzyR01ybYX"
   },
   "source": [
    "<center>\n",
    "    \n",
    "</center>"
   ]
  },
  {
   "cell_type": "markdown",
   "metadata": {},
   "source": [
    "## **Лабораторна робота 1. Статистичний аналіз даних.**"
   ]
  },
  {
   "cell_type": "markdown",
   "metadata": {
    "id": "mLJhUfyJzGWN"
   },
   "source": []
  },
  {
   "cell_type": "markdown",
   "metadata": {},
   "source": [
    "## Мета роботи\n",
    "\n",
    "Метою роботи є завантаження, препроцесний та статистичний аналіз медичних даних  ELISA тесту та даних про вакцинацію."
   ]
  },
  {
   "cell_type": "markdown",
   "metadata": {},
   "source": [
    "## Короткі теоретичні відомості"
   ]
  },
  {
   "cell_type": "markdown",
   "metadata": {},
   "source": [
    "Основна складність статистичного аналізу реальних даних полягає в тому, що вони готуються або подаються у формі, незручній для машинних методів статистичного аналізу. Тому у даній лабораторній роботі розглядаються методи автоматичної попередньої підготовки реальних даних. Наступне завдання - це здатність грамотно зманіпулювати та трансформувати великі дані так, щоб отримати зручний статистичний звіт як у табличній формі, так і у вигляді графіків.\n",
    "\n",
    "Тому основна мета, яку ми маємо досягти в цій лабораторній роботі,-навчитися завантажувати, попередньо обробляти та проводити базовий статистичний аналіз за допомогою сучасних методів DataMining даних анкет, отриманих під час опитування людей.\n"
   ]
  },
  {
   "cell_type": "markdown",
   "metadata": {},
   "source": [
    "## Матеріали та методи"
   ]
  },
  {
   "cell_type": "markdown",
   "metadata": {},
   "source": [
    "\n",
    "\n",
    "Завантажте дані\n",
    "Підготовка даних\n",
    "Статистичний аналіз\n",
    "Візуалізація даних\n",
    "Перший етап покаже вам, як завантажити дані електронних таблиць:\n",
    "\n",
    "індексація ключових полів\n",
    "працювати з такими типами даних, як datatime\n",
    "написання функції аналізатора для автоматичного створення полів індексу\n",
    "На наступному етапі буде продемонстровано, як заздалегідь підготувати дані до аналізу, зокрема:\n",
    "\n",
    "усунення відсутніх даних\n",
    "заміна та зміна даних комірки\n",
    "заміна та зміна даних комірки\n",
    "На етапі статистичного аналізу будуть продемонстровані методи автоматизації розрахунку статистичної інформації, зокрема:\n",
    "\n",
    "розрахунок основних статистичних показників\n",
    "сортування та групування даних\n",
    "набір даних трансформації даних\n",
    "розрахунок статистичних показників за трансформованими даними\n",
    "На етапі візуалізації будуть показані можливості візуалізації отриманих статистичних показників\n",
    "\n",
    "У цій лабораторії ми розглянемо методи статистичного аналізу даних, отриманих під час опитування людей щодо захворювання COVID 19. Виконання лабораторної роботи складається з таких етапів:\n",
    "* Завантаження даних\n",
    "* Оброблення даних\n",
    "* Статистичний аналіз\n",
    "* Візуалізація даних\n",
    "\n",
    "При виконанні завантаження даних необхідно провести:\n",
    "* Індексацію ключових полів;\n",
    "* Роботу з даними типу datatime;\n",
    "* Написання функції аналізатора для автоматичного створення індексних полів. \n",
    "\n",
    "На наступному етапі буде потрібно підготувати дані до аналізу, зокрема реалізувати:\n",
    "* усунення відсутніх даних;\n",
    "* заміна та зміна даних комірок;\n",
    "* зміна типу даних стовпців.\n",
    "\n",
    "На етапі статистичного аналізу необхідно реалізувати методи автоматизації розрахунку статистичної інформації, зокрема:\n",
    "* розрахунок основних статистичних показників;\n",
    "* сортування та групування даних;\n",
    "* методи трансформації даних;\n",
    "* розрахунок статистичних показників за трансформованими даними\n",
    "\n",
    "На етапі візуалізації необхідно показати можливості візуалізації отриманих статистичних показників"
   ]
  },
  {
   "cell_type": "markdown",
   "metadata": {
    "id": "TvG7RdB0hTZf"
   },
   "source": [
    "Статистичні дані, отримані під час опитування працівників кафедри систем штучного інтелекту Національного університету «Львівська політехніка», будуть використані у цій лабораторній роботі.\n",
    "Дослідження  було проведено відповідно гранту 305.2825-20 Stop Covid'19 Центральноєвропейської ініціативи (CEI)\n"
   ]
  },
  {
   "cell_type": "markdown",
   "metadata": {},
   "source": [
    "# Середовища для виконання\n",
    "\n",
    "* Python,\n",
    "* Pandas, https://pandas.pydata.org\n",
    "* SeaBorn, https://seaborn.pydata.org \n",
    "* Statistics"
   ]
  },
  {
   "cell_type": "markdown",
   "metadata": {},
   "source": [
    "## Порядок виконання"
   ]
  },
  {
   "cell_type": "markdown",
   "metadata": {},
   "source": [
    "Для виконання завдання:"
   ]
  },
  {
   "cell_type": "markdown",
   "metadata": {},
   "source": [
    "* Download DataSet from *.xlsx files\n",
    "* Automatically change data in DataSet\n",
    "* Transform the table\n",
    "* Visualize data with pandas and seaborn\n",
    "* Expect\n",
    "     * Minimum and maximum value\n",
    "     * Average\n",
    "     * Quarters\n",
    "     * Pivot tables"
   ]
  },
  {
   "cell_type": "markdown",
   "metadata": {
    "id": "4c4GR5cXEfQS"
   },
   "source": [
    "## Імпортування бібліотек/Означення допоміжних функцій"
   ]
  },
  {
   "cell_type": "markdown",
   "metadata": {},
   "source": [
    "Бібліотеки Pandas, MatplotLib та SeaBorn повинні бути інстальовані."
   ]
  },
  {
   "cell_type": "code",
   "execution_count": null,
   "metadata": {
    "colab": {
     "base_uri": "https://localhost:8080/"
    },
    "id": "DtNeLPQjhTZu",
    "outputId": "e9903f8f-7d27-46ac-c307-e9674b7d239a"
   },
   "outputs": [],
   "source": [
    "conda install pandas==0.25.1"
   ]
  },
  {
   "cell_type": "code",
   "execution_count": null,
   "metadata": {
    "id": "mdGO3tdwhTZw"
   },
   "outputs": [],
   "source": [
    "conda install matplotlib"
   ]
  },
  {
   "cell_type": "code",
   "execution_count": null,
   "metadata": {},
   "outputs": [],
   "source": [
    "conda install seaborn==0.9.0"
   ]
  },
  {
   "cell_type": "markdown",
   "metadata": {},
   "source": [
    "## Завантаження даних  з  файлу .xlsx "
   ]
  },
  {
   "cell_type": "markdown",
   "metadata": {},
   "source": [
    "Деякі бібліотеки необхідно імпортувати перед початком роботи"
   ]
  },
  {
   "cell_type": "code",
   "execution_count": null,
   "metadata": {},
   "outputs": [],
   "source": [
    "import pandas as pd\n",
    "from datetime import datetime"
   ]
  },
  {
   "cell_type": "markdown",
   "metadata": {
    "id": "EhF98WOJehXi"
   },
   "source": [
    "Наступний крок завантаження файлу з даними з допомогою функції**[read_excel()](https://pandas.pydata.org/docs/reference/api/pandas.read_excel.html)**"
   ]
  },
  {
   "cell_type": "code",
   "execution_count": null,
   "metadata": {},
   "outputs": [],
   "source": [
    "df = pd.read_excel('COVID_19.xlsx', 'Sheet1')"
   ]
  },
  {
   "cell_type": "markdown",
   "metadata": {
    "id": "-QpNMqkyM6AT"
   },
   "source": [
    "Тепер подивимось на отримані дані"
   ]
  },
  {
   "cell_type": "code",
   "execution_count": null,
   "metadata": {
    "colab": {
     "base_uri": "https://localhost:8080/"
    },
    "id": "uHuh-hTpNHv3",
    "outputId": "b2ff4466-b6f9-47d0-818b-7ef4869c77e9"
   },
   "outputs": [],
   "source": [
    "df"
   ]
  },
  {
   "cell_type": "markdown",
   "metadata": {},
   "source": [
    "Отриманий  dataset містить 3308 рядків та 14 стовпчиків"
   ]
  },
  {
   "cell_type": "markdown",
   "metadata": {},
   "source": [
    "Бачимо, що отриманий  dataset повинен бути модифікований"
   ]
  },
  {
   "cell_type": "markdown",
   "metadata": {},
   "source": [
    "По-перше, вам потрібно вибрати дату та час з першого стовпця як індексне поле. Це дозволить зручно групувати дані залежно від часу їх отримання.\n",
    "Оскільки дата та час можуть бути у різних форматах, зручно написати власну функцію, яка буде перетворювати будь-який формат дати та часу у формат дати та часу на python.\n",
    "У нашому випадку ми поділяємо будь-які дані дати/часу на дві частини (дата та час). Потім ми виділяємо лише години, хвилини та секунди від часу. Потім знову об’єднайте їх і перетворіть у datetime за допомогою функції **[strptime()](https://docs.python.org/3/library/datetime.html#datetime.date.strftime)**.\n",
    "Слід також встановити, як  описати відсутні дані, оскільки вони можуть негативно вплинути на статистику.\n",
    "Потім перезавантажте дані з файлу"
   ]
  },
  {
   "cell_type": "raw",
   "metadata": {},
   "source": [
    "Замініть ##YOUR CODE GOES HERE## на свій код"
   ]
  },
  {
   "cell_type": "code",
   "execution_count": null,
   "metadata": {},
   "outputs": [],
   "source": [
    "def parse(x):\n",
    "    y = x.split()\n",
    "    t = y[1][:8]\n",
    "    z=y[0] + \" \" + t\n",
    "    d = datetime.strptime(z, ##YOUR CODE GOES HERE##)\n",
    "    return d"
   ]
  },
  {
   "cell_type": "markdown",
   "metadata": {},
   "source": [
    "<details><summary>Click <b>here</b> for the solution</summary> \n",
    "'%Y-%m-%d %H:%M:%S'\n",
    "</details>"
   ]
  },
  {
   "cell_type": "code",
   "execution_count": null,
   "metadata": {},
   "outputs": [],
   "source": [
    "df = pd.read_excel('COVID_19.xlsx', 'Sheet1', na_values=\"NaN\", parse_dates = ['Date time'], index_col=0, date_parser=parse)"
   ]
  },
  {
   "cell_type": "code",
   "execution_count": null,
   "metadata": {},
   "outputs": [],
   "source": [
    "df"
   ]
  },
  {
   "cell_type": "markdown",
   "metadata": {},
   "source": [
    "## Обробка даних"
   ]
  },
  {
   "cell_type": "markdown",
   "metadata": {},
   "source": [
    "Деякі респонденти не вказали свою стать. Це унеможливить подальший аналіз таких даних.\n",
    "Видаліть рядки, у яких не вказано стать особи, за допомогою **[dropna()](https://pandas.pydata.org/docs/reference/api/pandas.DataFrame.dropna.html)**:"
   ]
  },
  {
   "cell_type": "code",
   "execution_count": null,
   "metadata": {},
   "outputs": [],
   "source": [
    "df = df.dropna(subset=['Gender'])"
   ]
  },
  {
   "cell_type": "markdown",
   "metadata": {},
   "source": [
    "Деякі дані можуть зберігатися у форматах, які Python неправильно інтерпретує. Тому для заміни значень комірок можна використовувати метод map (). Наприклад, ви можете змінити значення Так/Ні на True/False таким чином: **[map()] це метод для заміни значень комірок.(https://pandas.pydata.org/docs/reference/api/pandas.Series.map.html?highlight=map#pandas.Series.map)**  :"
   ]
  },
  {
   "cell_type": "code",
   "execution_count": null,
   "metadata": {},
   "outputs": [],
   "source": [
    "d = {'No' : False, 'Yes' : True}\n",
    "c = 'Do you vaccinated influenza?'\n",
    "df.loc[:, c] = df[c].map(d)"
   ]
  },
  {
   "cell_type": "code",
   "execution_count": null,
   "metadata": {},
   "outputs": [],
   "source": [
    "df"
   ]
  },
  {
   "cell_type": "markdown",
   "metadata": {},
   "source": [
    "Для подальшого аналізу необхідно проаналізувати узагальнені характеристики полів за допомогою  **[info()](https://pandas.pydata.org/docs/reference/api/pandas.DataFrame.info.html?highlight=info#pandas.DataFrame.info)**."
   ]
  },
  {
   "cell_type": "code",
   "execution_count": null,
   "metadata": {},
   "outputs": [],
   "source": [
    "df.info()"
   ]
  },
  {
   "cell_type": "markdown",
   "metadata": {},
   "source": [
    "Бачимо, що всі дані всіх стовпців мають тип ненульового об'єкта (за винятком останнього). Це невизначений тип даних. Тому необхідно трансформувати дані та змінити їх тип."
   ]
  },
  {
   "cell_type": "markdown",
   "metadata": {},
   "source": [
    "Як видно з таблиці, поле Вік має бути категоризовано. Для цього ми можемо використати**[astype()](https://pandas.pydata.org/docs/reference/api/pandas.DataFrame.astype.html?highlight=astype#pandas.DataFrame.astype)**:"
   ]
  },
  {
   "cell_type": "code",
   "execution_count": null,
   "metadata": {},
   "outputs": [],
   "source": [
    "c = 'Age'\n",
    "df.loc[:, c] = df[c].astype('category')"
   ]
  },
  {
   "cell_type": "code",
   "execution_count": null,
   "metadata": {},
   "outputs": [],
   "source": [
    "df['Age']"
   ]
  },
  {
   "cell_type": "markdown",
   "metadata": {},
   "source": [
    "Можна побачити, що ця колонка тепер стала категорією та має 5 різних категорій "
   ]
  },
  {
   "cell_type": "markdown",
   "metadata": {},
   "source": [
    "Усі інші поля, крім останнього, містять кириличні значення, тому їх потрібно замінити, а також зробити категоріями. Для цього використовуємо **[lambda](https://pandas.pydata.org/docs/reference/api/pandas.Series.apply.html?highlight=apply#pandas.Series.apply)** функцію для кожного значення комірки у відповідних стовпцях. Основна ідея в цьому випадку - знайти позицію відкритих дужок '(' у реченні і повернути фрагмент тексту перед ним. Якщо в тексті немає дужок, залиште текст без змін"
   ]
  },
  {
   "cell_type": "code",
   "execution_count": null,
   "metadata": {},
   "outputs": [],
   "source": [
    "for c in df.columns[1:-1]:\n",
    "    df.loc[:, c] = df[c].apply(lambda x : str(x) if str(x).find('(') == -1 else ##YOUR CODE GOES HERE## ).astype('category')"
   ]
  },
  {
   "cell_type": "markdown",
   "metadata": {},
   "source": [
    "<details><summary>Тисніть <b>тут</b> щоб отримати результат</summary> \n",
    "str(x)[:str(x).find('(')]\n",
    "</details>"
   ]
  },
  {
   "cell_type": "code",
   "execution_count": null,
   "metadata": {},
   "outputs": [],
   "source": [
    "df.info()"
   ]
  },
  {
   "cell_type": "markdown",
   "metadata": {},
   "source": [
    "Зведену статистику можна переглянути за допомогою наступної команди  **[describe()](https://pandas.pydata.org/docs/reference/api/pandas.DataFrame.describe.html?highlight=describe#pandas.DataFrame.describe)**"
   ]
  },
  {
   "cell_type": "code",
   "execution_count": null,
   "metadata": {},
   "outputs": [],
   "source": [
    "df.describe()"
   ]
  },
  {
   "cell_type": "markdown",
   "metadata": {},
   "source": [
    "Як бачите, результат висвітлює основну статистичну інформацію для всіх стовпців, крім категоріальних.\n",
    "Інформація включає загальне, середнє, стандартне відхилення, мінімум максимум та значення основних квартилів.\n",
    "Необхідно вказати, для яких типів даних відображати статистику, відображати зведену інформацію полів категорій:"
   ]
  },
  {
   "cell_type": "code",
   "execution_count": null,
   "metadata": {},
   "outputs": [],
   "source": [
    "df.describe(include=['category'])"
   ]
  },
  {
   "cell_type": "markdown",
   "metadata": {},
   "source": [
    "## Статистичний аналіз"
   ]
  },
  {
   "cell_type": "markdown",
   "metadata": {},
   "source": [
    "Як можна бачити, статистична інформація складається з: кількості унікальних значень, значення найпопулярнішої категорії та кількості її значень. \n",
    "Детальну інформацію для конкретної колонки можна отримати наступним чином (**[value_counts()](https://pandas.pydata.org/docs/reference/api/pandas.Series.value_counts.html?highlight=value_counts#pandas.Series.value_counts)**):"
   ]
  },
  {
   "cell_type": "code",
   "execution_count": null,
   "metadata": {},
   "outputs": [],
   "source": [
    "df['Age'].value_counts()"
   ]
  },
  {
   "cell_type": "markdown",
   "metadata": {},
   "source": [
    "Ви також можете отримати інформацію у нормалізованій формі "
   ]
  },
  {
   "cell_type": "code",
   "execution_count": null,
   "metadata": {},
   "outputs": [],
   "source": [
    "df['Age'].value_counts(normalize=True)"
   ]
  },
  {
   "cell_type": "markdown",
   "metadata": {},
   "source": [
    "### Сортування"
   ]
  },
  {
   "cell_type": "markdown",
   "metadata": {},
   "source": [
    "Ви можете сортувати дані за одним або групою стовпців, можна вказати напрямок сортування або створити власні правила сортування (наприклад, для полів категорій) за допомогою  **[sort_values()](https://pandas.pydata.org/docs/reference/api/pandas.DataFrame.sort_values.html?highlight=sort_values#pandas.DataFrame.sort_values)**"
   ]
  },
  {
   "cell_type": "code",
   "execution_count": null,
   "metadata": {},
   "outputs": [],
   "source": [
    "df.sort_values(by='Age', \n",
    "        ascending=True)"
   ]
  },
  {
   "cell_type": "markdown",
   "metadata": {},
   "source": [
    "Ви повинні вказати список полів та напрямок у  **'by'** та **'ascending'** параметрах. Тому сортувати по полях 'Age' у порядку зростання та 'Gender' у порядку спадання потрібно:"
   ]
  },
  {
   "cell_type": "code",
   "execution_count": null,
   "metadata": {},
   "outputs": [],
   "source": [
    "df.sort_values(##YOUR CODE GOES HERE##).head()"
   ]
  },
  {
   "cell_type": "markdown",
   "metadata": {},
   "source": [
    "<details><summary>натисніть <b>тут</b> для отримання результату</summary> \n",
    "by=['Age', 'Gender'], ascending=[True, False]\n",
    "</details>"
   ]
  },
  {
   "cell_type": "markdown",
   "metadata": {},
   "source": [
    "### Перетворення даних"
   ]
  },
  {
   "cell_type": "markdown",
   "metadata": {},
   "source": [
    "Щоб отримати інформацію про поле певної категорії,  можна використовувати "
   ]
  },
  {
   "cell_type": "code",
   "execution_count": null,
   "metadata": {},
   "outputs": [],
   "source": [
    "df['Gender'].value_counts()"
   ]
  },
  {
   "cell_type": "markdown",
   "metadata": {},
   "source": [
    "Список унікальних значень можна отримати наступним чином"
   ]
  },
  {
   "cell_type": "code",
   "execution_count": null,
   "metadata": {},
   "outputs": [],
   "source": [
    "df['Gender'].value_counts().keys()"
   ]
  },
  {
   "cell_type": "markdown",
   "metadata": {},
   "source": [
    "Середнє значення температури окремо для жінок можна отримати як (**[mean()](https://pandas.pydata.org/docs/getting_started/intro_tutorials/06_calculate_statistics.html?highlight=statistical)**):"
   ]
  },
  {
   "cell_type": "code",
   "execution_count": null,
   "metadata": {},
   "outputs": [],
   "source": [
    "df[df['Gender'] == 'Female ']['Maximum body temperature'].mean()"
   ]
  },
  {
   "cell_type": "markdown",
   "metadata": {},
   "source": [
    "Максимальна температура у чоловіків, які палять і мали Covid:"
   ]
  },
  {
   "cell_type": "code",
   "execution_count": null,
   "metadata": {},
   "outputs": [],
   "source": [
    "df[##YOUR CODE GOES HERE##]['Maximum body temperature'].max()"
   ]
  },
  {
   "cell_type": "markdown",
   "metadata": {},
   "source": [
    "<details><summary>Тисніть <b>тут</b> щоб отримати результат</summary> \n",
    "(df['Gender'] == 'Male ') & \n",
    "   (df['Do you smoke?'] == 'Yes') & \n",
    "   (df['Have you had Covid`19 this year?'] == 'Yes')\n",
    "</details>"
   ]
  },
  {
   "cell_type": "markdown",
   "metadata": {},
   "source": [
    "Або ви можете отримати повну статистику окремо за класами, згрупувавши дані"
   ]
  },
  {
   "cell_type": "code",
   "execution_count": null,
   "metadata": {},
   "outputs": [],
   "source": [
    "df.groupby(['Gender'])['Maximum body temperature'].describe()"
   ]
  },
  {
   "cell_type": "markdown",
   "metadata": {},
   "source": [
    "### Зведені таблиці"
   ]
  },
  {
   "cell_type": "markdown",
   "metadata": {},
   "source": [
    "Припустимо, нам потрібно порахувати, скільки чоловіків і жінок є у кожної вікової категорії. Для цього можна використати функцію **[crosstab()](https://pandas.pydata.org/docs/reference/api/pandas.crosstab.html?highlight=crosstab#pandas.crosstab)** :"
   ]
  },
  {
   "cell_type": "code",
   "execution_count": null,
   "metadata": {},
   "outputs": [],
   "source": [
    "pd.crosstab(df['Age'], df['Gender'])"
   ]
  },
  {
   "cell_type": "markdown",
   "metadata": {},
   "source": [
    "З таблиці видно, що найбільша кількість опитаних - це вікова група від 23 до 65 років."
   ]
  },
  {
   "cell_type": "markdown",
   "metadata": {},
   "source": [
    "Для отримання узагальненої інформації, наприклад про температуру тіла, для кожної вікової групи та чоловіків  і жінок необхідно використовувати фунецію зведеної таблиці **[pivot_table()](https://pandas.pydata.org/docs/reference/api/pandas.DataFrame.pivot_table.html?highlight=pivot_table#pandas.DataFrame.pivot_table)**"
   ]
  },
  {
   "cell_type": "code",
   "execution_count": null,
   "metadata": {},
   "outputs": [],
   "source": [
    "pd.pivot_table(df, values= 'Maximum body temperature', index= ['Age'], columns=['Gender'], aggfunc='mean', margins=True)"
   ]
  },
  {
   "cell_type": "markdown",
   "metadata": {},
   "source": [
    "У цій таблиці наведено середню температуру для жінок та чоловіків за віковими групами."
   ]
  },
  {
   "cell_type": "markdown",
   "metadata": {},
   "source": [
    "## Візуалізація даних"
   ]
  },
  {
   "cell_type": "markdown",
   "metadata": {},
   "source": [
    "Тепер давайте візуалізуємо наші дані. Ми будемо використовувати бібліотеку SeaBorn\n",
    "Документвція до бібліотеки за лінком  \n",
    "https://seaborn.pydata.org"
   ]
  },
  {
   "cell_type": "markdown",
   "metadata": {},
   "source": [
    "Імпортуємо біблітеку"
   ]
  },
  {
   "cell_type": "code",
   "execution_count": null,
   "metadata": {},
   "outputs": [],
   "source": [
    "import matplotlib.pyplot as plt\n",
    "import seaborn as sns"
   ]
  },
  {
   "cell_type": "markdown",
   "metadata": {},
   "source": [
    "Візуалізуємо кількість опитаних чоловіків та жінок у вікових групах за допомогою функції**[countplot()](https://seaborn.pydata.org/generated/seaborn.countplot.html)**:"
   ]
  },
  {
   "cell_type": "code",
   "execution_count": null,
   "metadata": {},
   "outputs": [],
   "source": [
    "sns.countplot(x='Age', hue='Gender', data=df)"
   ]
  },
  {
   "cell_type": "markdown",
   "metadata": {},
   "source": [
    "Давайте проаналізуємо динаміку опитувань за весь час дослідження. Для цього потрібно згрупувати дані за днями за допомогою методу**[resample()](https://pandas.pydata.org/docs/reference/api/pandas.DataFrame.resample.html?highlight=resample#pandas.DataFrame.resample)** and **[plot()](https://pandas.pydata.org/docs/reference/api/pandas.DataFrame.plot.html?highlight=plot#pandas.DataFrame.plot)** ."
   ]
  },
  {
   "cell_type": "code",
   "execution_count": null,
   "metadata": {},
   "outputs": [],
   "source": [
    "df.resample(str('1D')).sum().plot()"
   ]
  },
  {
   "cell_type": "markdown",
   "metadata": {
    "id": "clhnzf1kzwQ_"
   },
   "source": [
    "Давайте побудуємо графік розподілу температури(**[distplot()](https://seaborn.pydata.org/generated/seaborn.distplot.html)**) серед усіх пацієнтів з Covid та тих, хто не впевнений або хворіє на одному графіку, що буде містити два графіки(**[subplots()](https://matplotlib.org/stable/api/_as_gen/matplotlib.pyplot.subplots.html)**)"
   ]
  },
  {
   "cell_type": "code",
   "execution_count": null,
   "metadata": {},
   "outputs": [],
   "source": [
    "_, axes = plt.subplots(1, 2, sharey=True, figsize=(16,6))\n",
    "\n",
    "df_t = df[df['Have you had Covid`19 this year?'] == 'Yes'].dropna(subset=['Maximum body temperature'])\n",
    "sns.distplot(df_t['Maximum body temperature'], ax=axes[0])\n",
    "df_t = df[df['Have you had Covid`19 this year?'] == 'Maybe'].dropna(subset=['Maximum body temperature'])\n",
    "sns.distplot(df_t['Maximum body temperature'], ax=axes[1])"
   ]
  },
  {
   "cell_type": "markdown",
   "metadata": {},
   "source": [
    "З графіків можна зробити висновок, що при хворобі Covid температура може сильно коливатися. Люди, які мали температуру між 37-38, не проходили тестування і не були впевнені у своєму діагнозі"
   ]
  },
  {
   "cell_type": "markdown",
   "metadata": {},
   "source": [
    "Побудуємо температурні залежності від вікової групи (**[boxplot()](https://seaborn.pydata.org/generated/seaborn.boxplot.html?highlight=boxplot#seaborn.boxplot)** або **[violinplot()](https://seaborn.pydata.org/generated/seaborn.violinplot.html)**). На графіку показано квартилі даних. Середня лінія прямокутника - медіана. Криві показують розкид даних."
   ]
  },
  {
   "cell_type": "code",
   "execution_count": null,
   "metadata": {},
   "outputs": [],
   "source": [
    "cols = ['Maximum body temperature', 'Maximum body temperature']\n",
    "_, axes = plt.subplots(1, 2, sharey=True, figsize=(16,6))\n",
    "sns.boxplot(y = df[\"Age\"], x=df[\"Maximum body temperature\"], ax=axes[0])\n",
    "sns.violinplot(y = df[\"Age\"], x=df[\"Maximum body temperature\"],ax=axes[1] )"
   ]
  },
  {
   "cell_type": "markdown",
   "metadata": {},
   "source": [
    "## Висновок"
   ]
  },
  {
   "cell_type": "markdown",
   "metadata": {},
   "source": [
    "Як показує практика, дані, отримані в реальних польових експериментах, не придатні для прямої статистичної обробки. Тому в цій лабораторній роботі розглянуто основні методи завантаження та попередньої обробки  даних.\n",
    "На відміну від класичних відомих підходів до аналізу статистичних даних, python містить багато потужних бібліотек, які дозволяють легко і швидко маніпулювати даними. Тому було  вивчено основні методи автоматизації бібліотеки, такі як Pandas для статистичного аналізу даних. Також розглянуто основні методи візуалізації отриманих даних за допомогою бібліотеки SeaBorn, яка також містить ефективні засоби візуального аналізу даних."
   ]
  },
  {
   "cell_type": "markdown",
   "metadata": {
    "id": "FF-oG6h7hTZo"
   },
   "source": [
    "## Індивідуальні завдання\n",
    "1. Створіть нові набори даних з інформацією про чоловіків, які хворіли на Covid та мали температуру вище 38. Візуалізуйте ці дані.\n",
    "2. Створіть нові набори даних з інформацією про жінок, які хворіли на Covid та мали температуру менше 39. Візуалізуйте ці дані.\n",
    "3. Побудуйте гістограму середньої температури  для кожної вікової категорії.\n",
    "4. Побудуйте гістограму середньої температури для кожної вікової категорії для чоловіків.\n",
    "5. Побудуйте гістограму середньої температури для кожної вікової категорії для жінок.\n",
    "6. Побудуйте графік кількості людей, що перехворіли на Covid, в залежності від віку.\n",
    "7. Побудуйте графік кількості чоловіків, що перехворіли на Covid, в залежності від віку.\n",
    "8. Побудуйте графік кількості жінок, що перехворіли на Covid, в залежності від віку.\n",
    "9. Побудуйте графік кількості людей, що перехворіли на грип, в залежності від віку.\n",
    "7. Побудуйте графік кількості чоловіків, що перехворіли на грип, в залежності від віку.\n",
    "8. Побудуйте графік кількості жінок, що перехворіли на грип, в залежності від віку.\n",
    "9. Візуалізуйте кількість людей, що  перехворіли на Covid без температури, в залежності від віку.\n",
    "10. Візуалізуйте кількість чоловіків, що  перехворіли на Covid без температури, в залежності від віку.\n",
    "11. Візуалізуйте кількість жінок, що  перехворіли на Covid без температури, в залежності від віку.\n",
    "12. Побудуйте графік максимальної температури при Covid для кожної вікової категорії.\n",
    "13. Побудуйте графік максимальної температури для чоловіків при Covid для кожної вікової категорії.\n",
    "14. Побудуйте графік максимальної температури для жінок при Covid для кожної вікової категорії.\n",
    "15. Обчисліть та візуалізуйте кількість людей, що курять та перехворіли на Covid, для кожної вікової категорії.\n"
   ]
  },
  {
   "cell_type": "markdown",
   "metadata": {},
   "source": [
    "## Автор"
   ]
  },
  {
   "cell_type": "markdown",
   "metadata": {},
   "source": [
    "[Yaroslav Vyklyuk, prof., PhD., DrSc](http://vyklyuk.bukuniver.edu.ua/en/)"
   ]
  },
  {
   "cell_type": "markdown",
   "metadata": {},
   "source": [
    " This notebook and its source code are released under the terms of the [MIT License](https://cognitiveclass.ai/mit-license/)."
   ]
  }
 ],
 "metadata": {
  "colab": {
   "collapsed_sections": [],
   "name": "Lab1 Basic statistical analysis.ipynb",
   "provenance": []
  },
  "kernelspec": {
   "display_name": "Python 3",
   "language": "python",
   "name": "python3"
  },
  "language_info": {
   "codemirror_mode": {
    "name": "ipython",
    "version": 3
   },
   "file_extension": ".py",
   "mimetype": "text/x-python",
   "name": "python",
   "nbconvert_exporter": "python",
   "pygments_lexer": "ipython3",
   "version": "3.8.8"
  }
 },
 "nbformat": 4,
 "nbformat_minor": 4
}