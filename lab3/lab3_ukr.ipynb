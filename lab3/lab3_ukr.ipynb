{
 "cells": [
  {
   "cell_type": "markdown",
   "metadata": {
    "id": "-suDX06ljokk"
   },
   "source": [
    "## **Розширені алгоритми прогнозування за допомогою нейронних мереж на прикладах медичних даних**"
   ]
  },
  {
   "cell_type": "markdown",
   "metadata": {},
   "source": [
    "## Roman Kovalchuk. KN-314\n",
    "### Варіант №9. Реалізувати прогнозування поширення COVID-19 у групі країн Індія, Непал, Пакистан."
   ]
  },
  {
   "cell_type": "markdown",
   "metadata": {
    "id": "mAjC5-lejoko"
   },
   "source": [
    "## Мета роботи"
   ]
  },
  {
   "cell_type": "markdown",
   "metadata": {
    "id": "KMkVjv_Djokp"
   },
   "source": [
    "Ця лабораторна робота присвячена прогнозуванню динаміки поширення COVID-19 у світі за допомогою нейронних мереж різних структур. Мета роботи навчитисяч робити прогнози на основі лінійної регресії, зворотного розповсюдження та нейронних мереж довгої короткочасної пам’яті (long short-term memory LSTM)."
   ]
  },
  {
   "cell_type": "markdown",
   "metadata": {
    "id": "D7KovMRhjokq"
   },
   "source": [
    "## Виконання"
   ]
  },
  {
   "cell_type": "markdown",
   "metadata": {
    "id": "Ck5QBtWtjokr"
   },
   "source": [
    "Сьогодні існує багато відкритих даних про поширення COVID-19 у світі. Однак представлено небагато інструментів для прогнозування цих процесів. Ця лабораторна робота покаже, як можна завантажувати дані з відкритих джерел, виконувати попередній аналіз даних, перетворювати та очищати дані, виконувати кореляційний та затримковий аналіз.\n",
    "\n",
    "Далі будуть розглянуті три різні математичні моделі для розрахунку прогнозування.\n",
    "\n",
    "Для цього буде продемонстровано поділ набору даних на навчальні та тестові вибірки. Буде продемонстровно як нормалізувати дані та провести попередній аналіз. Буде показано, як побудувати моделі та набори даних для використання двох різних нейронних мереж. Наступним кроком є побудова прогнозу та порівняння точності та адекватності отриманих моделей."
   ]
  },
  {
   "cell_type": "markdown",
   "metadata": {
    "id": "ZtyRMAbsjokt"
   },
   "source": [
    "## Матеріали та методи"
   ]
  },
  {
   "cell_type": "markdown",
   "metadata": {
    "id": "Sy4ehDlWjokv"
   },
   "source": [
    "У цій лабораторній роботі буде вивчено основні методи прогнозування часових рядів. Лабораторна робота складається з таких етапів:\n",
    "* Завантаження та попередній аналіз даних\n",
    "* Лінійна регресія\n",
    "* Метод зворотного поширення помилки (Back Propagation NN)\n",
    "* Довгої короткочасної пам’яті - LSTM\n",
    "\n",
    "На першому етапі буде показано, як завантажити дані та заздалегідь підготувати їх до аналізу:\n",
    "* завантажити дані\n",
    "* змінити типи даних стовпців\n",
    "* фільтрація рядків\n",
    "* усунення відсутніх даних\n",
    "* перетворення набору даних\n",
    "* нормалізація даних\n",
    "\n",
    "Під час наступних кроків буде продемонстрованмо три різні моделі прогнозування часових рядів."
   ]
  },
  {
   "cell_type": "markdown",
   "metadata": {
    "id": "TvG7RdB0hTZf"
   },
   "source": [
    "Статистичні дані отримані з https://ourworldindata.org/coronavirus на основі Creative Commons BY license."
   ]
  },
  {
   "cell_type": "markdown",
   "metadata": {
    "id": "_MGHCRMGjok5"
   },
   "source": [
    "## Завантаження бібліотек"
   ]
  },
  {
   "cell_type": "markdown",
   "metadata": {
    "id": "sUo5aJ28jok6"
   },
   "source": [
    "Необхідне встановлення додаткових бібліотек для виконання лабораторної роботи."
   ]
  },
  {
   "cell_type": "code",
   "execution_count": 1,
   "metadata": {
    "id": "_EuJef0Tjok7"
   },
   "outputs": [
    {
     "name": "stdout",
     "output_type": "stream",
     "text": [
      "Collecting keras\n",
      "  Using cached keras-2.6.0-py2.py3-none-any.whl (1.3 MB)\n",
      "Installing collected packages: keras\n",
      "Successfully installed keras-2.6.0\n"
     ]
    }
   ],
   "source": [
    "!pip install keras"
   ]
  },
  {
   "cell_type": "code",
   "execution_count": 2,
   "metadata": {
    "id": "icl9eWbwjok8"
   },
   "outputs": [
    {
     "name": "stdout",
     "output_type": "stream",
     "text": [
      "^C\n"
     ]
    }
   ],
   "source": [
    "!pip install tensorflow"
   ]
  },
  {
   "cell_type": "markdown",
   "metadata": {
    "id": "LFEk5uifjok9"
   },
   "source": [
    "## Завантаження та попередній аналіз даних"
   ]
  },
  {
   "cell_type": "markdown",
   "metadata": {
    "id": "Jon2_2fsjok9"
   },
   "source": [
    "### Завантаження даних"
   ]
  },
  {
   "cell_type": "markdown",
   "metadata": {
    "id": "0EZW0Xaljok-"
   },
   "source": [
    "Перед початком необхідно імпортувати додаткові бібліотеки."
   ]
  },
  {
   "cell_type": "code",
   "execution_count": 3,
   "metadata": {
    "id": "bQjQjPofjok_"
   },
   "outputs": [],
   "source": [
    "import pandas as pd\n",
    "import numpy as np"
   ]
  },
  {
   "cell_type": "markdown",
   "metadata": {
    "id": "MxrNPB34jolA"
   },
   "source": [
    "Будемо використовувати той самий набір даних, що і в попередній лабораторній роботі. \n",
    "Тому повторюємо  попередню обробку даних, як це було раніше у лабораторній роботі 2."
   ]
  },
  {
   "cell_type": "code",
   "execution_count": 4,
   "metadata": {
    "id": "cM3eRRrtjolB"
   },
   "outputs": [
    {
     "data": {
      "text/plain": "       iso_code continent     location        date  total_cases  new_cases  \\\n0           AFG      Asia  Afghanistan  2020-02-24          5.0        5.0   \n1           AFG      Asia  Afghanistan  2020-02-25          5.0        0.0   \n2           AFG      Asia  Afghanistan  2020-02-26          5.0        0.0   \n3           AFG      Asia  Afghanistan  2020-02-27          5.0        0.0   \n4           AFG      Asia  Afghanistan  2020-02-28          5.0        0.0   \n...         ...       ...          ...         ...          ...        ...   \n125956      ZWE    Africa     Zimbabwe  2021-10-20     132437.0       32.0   \n125957      ZWE    Africa     Zimbabwe  2021-10-21     132540.0      103.0   \n125958      ZWE    Africa     Zimbabwe  2021-10-22     132588.0       48.0   \n125959      ZWE    Africa     Zimbabwe  2021-10-23     132588.0        0.0   \n125960      ZWE    Africa     Zimbabwe  2021-10-24     132651.0       63.0   \n\n        new_cases_smoothed  total_deaths  new_deaths  new_deaths_smoothed  \\\n0                      NaN           NaN         NaN                  NaN   \n1                      NaN           NaN         NaN                  NaN   \n2                      NaN           NaN         NaN                  NaN   \n3                      NaN           NaN         NaN                  NaN   \n4                      NaN           NaN         NaN                  NaN   \n...                    ...           ...         ...                  ...   \n125956              47.000        4659.0         0.0                1.571   \n125957              41.286        4662.0         3.0                1.000   \n125958              43.286        4663.0         1.0                1.143   \n125959              36.429        4663.0         0.0                0.857   \n125960              40.429        4669.0         6.0                1.571   \n\n        ...  female_smokers  male_smokers  handwashing_facilities  \\\n0       ...             NaN           NaN                  37.746   \n1       ...             NaN           NaN                  37.746   \n2       ...             NaN           NaN                  37.746   \n3       ...             NaN           NaN                  37.746   \n4       ...             NaN           NaN                  37.746   \n...     ...             ...           ...                     ...   \n125956  ...             1.6          30.7                  36.791   \n125957  ...             1.6          30.7                  36.791   \n125958  ...             1.6          30.7                  36.791   \n125959  ...             1.6          30.7                  36.791   \n125960  ...             1.6          30.7                  36.791   \n\n        hospital_beds_per_thousand  life_expectancy  human_development_index  \\\n0                              0.5            64.83                    0.511   \n1                              0.5            64.83                    0.511   \n2                              0.5            64.83                    0.511   \n3                              0.5            64.83                    0.511   \n4                              0.5            64.83                    0.511   \n...                            ...              ...                      ...   \n125956                         1.7            61.49                    0.571   \n125957                         1.7            61.49                    0.571   \n125958                         1.7            61.49                    0.571   \n125959                         1.7            61.49                    0.571   \n125960                         1.7            61.49                    0.571   \n\n        excess_mortality_cumulative_absolute  excess_mortality_cumulative  \\\n0                                        NaN                          NaN   \n1                                        NaN                          NaN   \n2                                        NaN                          NaN   \n3                                        NaN                          NaN   \n4                                        NaN                          NaN   \n...                                      ...                          ...   \n125956                                   NaN                          NaN   \n125957                                   NaN                          NaN   \n125958                                   NaN                          NaN   \n125959                                   NaN                          NaN   \n125960                                   NaN                          NaN   \n\n        excess_mortality  excess_mortality_cumulative_per_million  \n0                    NaN                                      NaN  \n1                    NaN                                      NaN  \n2                    NaN                                      NaN  \n3                    NaN                                      NaN  \n4                    NaN                                      NaN  \n...                  ...                                      ...  \n125956               NaN                                      NaN  \n125957               NaN                                      NaN  \n125958               NaN                                      NaN  \n125959               NaN                                      NaN  \n125960               NaN                                      NaN  \n\n[125961 rows x 65 columns]",
      "text/html": "<div>\n<style scoped>\n    .dataframe tbody tr th:only-of-type {\n        vertical-align: middle;\n    }\n\n    .dataframe tbody tr th {\n        vertical-align: top;\n    }\n\n    .dataframe thead th {\n        text-align: right;\n    }\n</style>\n<table border=\"1\" class=\"dataframe\">\n  <thead>\n    <tr style=\"text-align: right;\">\n      <th></th>\n      <th>iso_code</th>\n      <th>continent</th>\n      <th>location</th>\n      <th>date</th>\n      <th>total_cases</th>\n      <th>new_cases</th>\n      <th>new_cases_smoothed</th>\n      <th>total_deaths</th>\n      <th>new_deaths</th>\n      <th>new_deaths_smoothed</th>\n      <th>...</th>\n      <th>female_smokers</th>\n      <th>male_smokers</th>\n      <th>handwashing_facilities</th>\n      <th>hospital_beds_per_thousand</th>\n      <th>life_expectancy</th>\n      <th>human_development_index</th>\n      <th>excess_mortality_cumulative_absolute</th>\n      <th>excess_mortality_cumulative</th>\n      <th>excess_mortality</th>\n      <th>excess_mortality_cumulative_per_million</th>\n    </tr>\n  </thead>\n  <tbody>\n    <tr>\n      <th>0</th>\n      <td>AFG</td>\n      <td>Asia</td>\n      <td>Afghanistan</td>\n      <td>2020-02-24</td>\n      <td>5.0</td>\n      <td>5.0</td>\n      <td>NaN</td>\n      <td>NaN</td>\n      <td>NaN</td>\n      <td>NaN</td>\n      <td>...</td>\n      <td>NaN</td>\n      <td>NaN</td>\n      <td>37.746</td>\n      <td>0.5</td>\n      <td>64.83</td>\n      <td>0.511</td>\n      <td>NaN</td>\n      <td>NaN</td>\n      <td>NaN</td>\n      <td>NaN</td>\n    </tr>\n    <tr>\n      <th>1</th>\n      <td>AFG</td>\n      <td>Asia</td>\n      <td>Afghanistan</td>\n      <td>2020-02-25</td>\n      <td>5.0</td>\n      <td>0.0</td>\n      <td>NaN</td>\n      <td>NaN</td>\n      <td>NaN</td>\n      <td>NaN</td>\n      <td>...</td>\n      <td>NaN</td>\n      <td>NaN</td>\n      <td>37.746</td>\n      <td>0.5</td>\n      <td>64.83</td>\n      <td>0.511</td>\n      <td>NaN</td>\n      <td>NaN</td>\n      <td>NaN</td>\n      <td>NaN</td>\n    </tr>\n    <tr>\n      <th>2</th>\n      <td>AFG</td>\n      <td>Asia</td>\n      <td>Afghanistan</td>\n      <td>2020-02-26</td>\n      <td>5.0</td>\n      <td>0.0</td>\n      <td>NaN</td>\n      <td>NaN</td>\n      <td>NaN</td>\n      <td>NaN</td>\n      <td>...</td>\n      <td>NaN</td>\n      <td>NaN</td>\n      <td>37.746</td>\n      <td>0.5</td>\n      <td>64.83</td>\n      <td>0.511</td>\n      <td>NaN</td>\n      <td>NaN</td>\n      <td>NaN</td>\n      <td>NaN</td>\n    </tr>\n    <tr>\n      <th>3</th>\n      <td>AFG</td>\n      <td>Asia</td>\n      <td>Afghanistan</td>\n      <td>2020-02-27</td>\n      <td>5.0</td>\n      <td>0.0</td>\n      <td>NaN</td>\n      <td>NaN</td>\n      <td>NaN</td>\n      <td>NaN</td>\n      <td>...</td>\n      <td>NaN</td>\n      <td>NaN</td>\n      <td>37.746</td>\n      <td>0.5</td>\n      <td>64.83</td>\n      <td>0.511</td>\n      <td>NaN</td>\n      <td>NaN</td>\n      <td>NaN</td>\n      <td>NaN</td>\n    </tr>\n    <tr>\n      <th>4</th>\n      <td>AFG</td>\n      <td>Asia</td>\n      <td>Afghanistan</td>\n      <td>2020-02-28</td>\n      <td>5.0</td>\n      <td>0.0</td>\n      <td>NaN</td>\n      <td>NaN</td>\n      <td>NaN</td>\n      <td>NaN</td>\n      <td>...</td>\n      <td>NaN</td>\n      <td>NaN</td>\n      <td>37.746</td>\n      <td>0.5</td>\n      <td>64.83</td>\n      <td>0.511</td>\n      <td>NaN</td>\n      <td>NaN</td>\n      <td>NaN</td>\n      <td>NaN</td>\n    </tr>\n    <tr>\n      <th>...</th>\n      <td>...</td>\n      <td>...</td>\n      <td>...</td>\n      <td>...</td>\n      <td>...</td>\n      <td>...</td>\n      <td>...</td>\n      <td>...</td>\n      <td>...</td>\n      <td>...</td>\n      <td>...</td>\n      <td>...</td>\n      <td>...</td>\n      <td>...</td>\n      <td>...</td>\n      <td>...</td>\n      <td>...</td>\n      <td>...</td>\n      <td>...</td>\n      <td>...</td>\n      <td>...</td>\n    </tr>\n    <tr>\n      <th>125956</th>\n      <td>ZWE</td>\n      <td>Africa</td>\n      <td>Zimbabwe</td>\n      <td>2021-10-20</td>\n      <td>132437.0</td>\n      <td>32.0</td>\n      <td>47.000</td>\n      <td>4659.0</td>\n      <td>0.0</td>\n      <td>1.571</td>\n      <td>...</td>\n      <td>1.6</td>\n      <td>30.7</td>\n      <td>36.791</td>\n      <td>1.7</td>\n      <td>61.49</td>\n      <td>0.571</td>\n      <td>NaN</td>\n      <td>NaN</td>\n      <td>NaN</td>\n      <td>NaN</td>\n    </tr>\n    <tr>\n      <th>125957</th>\n      <td>ZWE</td>\n      <td>Africa</td>\n      <td>Zimbabwe</td>\n      <td>2021-10-21</td>\n      <td>132540.0</td>\n      <td>103.0</td>\n      <td>41.286</td>\n      <td>4662.0</td>\n      <td>3.0</td>\n      <td>1.000</td>\n      <td>...</td>\n      <td>1.6</td>\n      <td>30.7</td>\n      <td>36.791</td>\n      <td>1.7</td>\n      <td>61.49</td>\n      <td>0.571</td>\n      <td>NaN</td>\n      <td>NaN</td>\n      <td>NaN</td>\n      <td>NaN</td>\n    </tr>\n    <tr>\n      <th>125958</th>\n      <td>ZWE</td>\n      <td>Africa</td>\n      <td>Zimbabwe</td>\n      <td>2021-10-22</td>\n      <td>132588.0</td>\n      <td>48.0</td>\n      <td>43.286</td>\n      <td>4663.0</td>\n      <td>1.0</td>\n      <td>1.143</td>\n      <td>...</td>\n      <td>1.6</td>\n      <td>30.7</td>\n      <td>36.791</td>\n      <td>1.7</td>\n      <td>61.49</td>\n      <td>0.571</td>\n      <td>NaN</td>\n      <td>NaN</td>\n      <td>NaN</td>\n      <td>NaN</td>\n    </tr>\n    <tr>\n      <th>125959</th>\n      <td>ZWE</td>\n      <td>Africa</td>\n      <td>Zimbabwe</td>\n      <td>2021-10-23</td>\n      <td>132588.0</td>\n      <td>0.0</td>\n      <td>36.429</td>\n      <td>4663.0</td>\n      <td>0.0</td>\n      <td>0.857</td>\n      <td>...</td>\n      <td>1.6</td>\n      <td>30.7</td>\n      <td>36.791</td>\n      <td>1.7</td>\n      <td>61.49</td>\n      <td>0.571</td>\n      <td>NaN</td>\n      <td>NaN</td>\n      <td>NaN</td>\n      <td>NaN</td>\n    </tr>\n    <tr>\n      <th>125960</th>\n      <td>ZWE</td>\n      <td>Africa</td>\n      <td>Zimbabwe</td>\n      <td>2021-10-24</td>\n      <td>132651.0</td>\n      <td>63.0</td>\n      <td>40.429</td>\n      <td>4669.0</td>\n      <td>6.0</td>\n      <td>1.571</td>\n      <td>...</td>\n      <td>1.6</td>\n      <td>30.7</td>\n      <td>36.791</td>\n      <td>1.7</td>\n      <td>61.49</td>\n      <td>0.571</td>\n      <td>NaN</td>\n      <td>NaN</td>\n      <td>NaN</td>\n      <td>NaN</td>\n    </tr>\n  </tbody>\n</table>\n<p>125961 rows × 65 columns</p>\n</div>"
     },
     "execution_count": 4,
     "metadata": {},
     "output_type": "execute_result"
    }
   ],
   "source": [
    "covid_stat = pd.read_csv('./datasets/owid-covid-data.csv')\n",
    "covid_stat"
   ]
  },
  {
   "cell_type": "markdown",
   "metadata": {
    "id": "C3AT_2fsjolB"
   },
   "source": [
    "Давайте вивчимо наш набір даних. Він складається з 125961 rows × 65 columns. \n",
    "Перші 3 стовпці містять географічну інформацію. Графа 4 - дата вимірювання. \n",
    "Ще 55 - дані про COVID -19. Також у наборі даних спостерігаються деякі відсутні дані. \n",
    "Ми повинні бути впевнені, що Python правильно розпізнав типи даних. Для цього ми повинні використовувати **[pandas.info()](https://pandas.pydata.org/docs/reference/api/pandas.DataFrame.info.html?highlight=info#pandas.DataFrame.info)**."
   ]
  },
  {
   "cell_type": "code",
   "execution_count": 5,
   "metadata": {
    "id": "O2M9TmepjolC"
   },
   "outputs": [
    {
     "name": "stdout",
     "output_type": "stream",
     "text": [
      "<class 'pandas.core.frame.DataFrame'>\n",
      "RangeIndex: 125961 entries, 0 to 125960\n",
      "Data columns (total 65 columns):\n",
      " #   Column                                   Non-Null Count   Dtype  \n",
      "---  ------                                   --------------   -----  \n",
      " 0   iso_code                                 125961 non-null  object \n",
      " 1   continent                                120257 non-null  object \n",
      " 2   location                                 125961 non-null  object \n",
      " 3   date                                     125961 non-null  object \n",
      " 4   total_cases                              119154 non-null  float64\n",
      " 5   new_cases                                119150 non-null  float64\n",
      " 6   new_cases_smoothed                       118136 non-null  float64\n",
      " 7   total_deaths                             108218 non-null  float64\n",
      " 8   new_deaths                               108371 non-null  float64\n",
      " 9   new_deaths_smoothed                      118136 non-null  float64\n",
      " 10  total_cases_per_million                  118528 non-null  float64\n",
      " 11  new_cases_per_million                    118524 non-null  float64\n",
      " 12  new_cases_smoothed_per_million           117515 non-null  float64\n",
      " 13  total_deaths_per_million                 107605 non-null  float64\n",
      " 14  new_deaths_per_million                   107758 non-null  float64\n",
      " 15  new_deaths_smoothed_per_million          117515 non-null  float64\n",
      " 16  reproduction_rate                        101466 non-null  float64\n",
      " 17  icu_patients                             15397 non-null   float64\n",
      " 18  icu_patients_per_million                 15397 non-null   float64\n",
      " 19  hosp_patients                            17481 non-null   float64\n",
      " 20  hosp_patients_per_million                17481 non-null   float64\n",
      " 21  weekly_icu_admissions                    1294 non-null    float64\n",
      " 22  weekly_icu_admissions_per_million        1294 non-null    float64\n",
      " 23  weekly_hosp_admissions                   2260 non-null    float64\n",
      " 24  weekly_hosp_admissions_per_million       2260 non-null    float64\n",
      " 25  new_tests                                53743 non-null   float64\n",
      " 26  total_tests                              53895 non-null   float64\n",
      " 27  total_tests_per_thousand                 53895 non-null   float64\n",
      " 28  new_tests_per_thousand                   53743 non-null   float64\n",
      " 29  new_tests_smoothed                       64886 non-null   float64\n",
      " 30  new_tests_smoothed_per_thousand          64886 non-null   float64\n",
      " 31  positive_rate                            60954 non-null   float64\n",
      " 32  tests_per_case                           60311 non-null   float64\n",
      " 33  tests_units                              66853 non-null   object \n",
      " 34  total_vaccinations                       29875 non-null   float64\n",
      " 35  people_vaccinated                        28541 non-null   float64\n",
      " 36  people_fully_vaccinated                  25445 non-null   float64\n",
      " 37  total_boosters                           4244 non-null    float64\n",
      " 38  new_vaccinations                         24668 non-null   float64\n",
      " 39  new_vaccinations_smoothed                53935 non-null   float64\n",
      " 40  total_vaccinations_per_hundred           29875 non-null   float64\n",
      " 41  people_vaccinated_per_hundred            28541 non-null   float64\n",
      " 42  people_fully_vaccinated_per_hundred      25445 non-null   float64\n",
      " 43  total_boosters_per_hundred               4244 non-null    float64\n",
      " 44  new_vaccinations_smoothed_per_million    53935 non-null   float64\n",
      " 45  stringency_index                         104707 non-null  float64\n",
      " 46  population                               125053 non-null  float64\n",
      " 47  population_density                       116334 non-null  float64\n",
      " 48  median_age                               111008 non-null  float64\n",
      " 49  aged_65_older                            109778 non-null  float64\n",
      " 50  aged_70_older                            110401 non-null  float64\n",
      " 51  gdp_per_capita                           111684 non-null  float64\n",
      " 52  extreme_poverty                          74731 non-null   float64\n",
      " 53  cardiovasc_death_rate                    111279 non-null  float64\n",
      " 54  diabetes_prevalence                      114801 non-null  float64\n",
      " 55  female_smokers                           86705 non-null   float64\n",
      " 56  male_smokers                             85449 non-null   float64\n",
      " 57  handwashing_facilities                   56003 non-null   float64\n",
      " 58  hospital_beds_per_thousand               101152 non-null  float64\n",
      " 59  life_expectancy                          119456 non-null  float64\n",
      " 60  human_development_index                  111373 non-null  float64\n",
      " 61  excess_mortality_cumulative_absolute     4563 non-null    float64\n",
      " 62  excess_mortality_cumulative              4563 non-null    float64\n",
      " 63  excess_mortality                         4563 non-null    float64\n",
      " 64  excess_mortality_cumulative_per_million  4563 non-null    float64\n",
      "dtypes: float64(60), object(5)\n",
      "memory usage: 62.5+ MB\n"
     ]
    }
   ],
   "source": [
    "covid_stat.info()"
   ]
  },
  {
   "cell_type": "markdown",
   "metadata": {
    "id": "rR_i-AuyjolC"
   },
   "source": [
    "Бачимо, 54 стовпці даних COVID-19 були розпізнані правильно (float64).\n",
    "Перші 4 стовпці та одиниці тесту були визнані об’єктами. Давайте дослідимо їх:"
   ]
  },
  {
   "cell_type": "code",
   "execution_count": 6,
   "metadata": {
    "id": "l9qfqY2SjolD"
   },
   "outputs": [
    {
     "data": {
      "text/plain": "       iso_code continent     location tests_units\n0           AFG      Asia  Afghanistan         NaN\n1           AFG      Asia  Afghanistan         NaN\n2           AFG      Asia  Afghanistan         NaN\n3           AFG      Asia  Afghanistan         NaN\n4           AFG      Asia  Afghanistan         NaN\n...         ...       ...          ...         ...\n125956      ZWE    Africa     Zimbabwe         NaN\n125957      ZWE    Africa     Zimbabwe         NaN\n125958      ZWE    Africa     Zimbabwe         NaN\n125959      ZWE    Africa     Zimbabwe         NaN\n125960      ZWE    Africa     Zimbabwe         NaN\n\n[125961 rows x 4 columns]",
      "text/html": "<div>\n<style scoped>\n    .dataframe tbody tr th:only-of-type {\n        vertical-align: middle;\n    }\n\n    .dataframe tbody tr th {\n        vertical-align: top;\n    }\n\n    .dataframe thead th {\n        text-align: right;\n    }\n</style>\n<table border=\"1\" class=\"dataframe\">\n  <thead>\n    <tr style=\"text-align: right;\">\n      <th></th>\n      <th>iso_code</th>\n      <th>continent</th>\n      <th>location</th>\n      <th>tests_units</th>\n    </tr>\n  </thead>\n  <tbody>\n    <tr>\n      <th>0</th>\n      <td>AFG</td>\n      <td>Asia</td>\n      <td>Afghanistan</td>\n      <td>NaN</td>\n    </tr>\n    <tr>\n      <th>1</th>\n      <td>AFG</td>\n      <td>Asia</td>\n      <td>Afghanistan</td>\n      <td>NaN</td>\n    </tr>\n    <tr>\n      <th>2</th>\n      <td>AFG</td>\n      <td>Asia</td>\n      <td>Afghanistan</td>\n      <td>NaN</td>\n    </tr>\n    <tr>\n      <th>3</th>\n      <td>AFG</td>\n      <td>Asia</td>\n      <td>Afghanistan</td>\n      <td>NaN</td>\n    </tr>\n    <tr>\n      <th>4</th>\n      <td>AFG</td>\n      <td>Asia</td>\n      <td>Afghanistan</td>\n      <td>NaN</td>\n    </tr>\n    <tr>\n      <th>...</th>\n      <td>...</td>\n      <td>...</td>\n      <td>...</td>\n      <td>...</td>\n    </tr>\n    <tr>\n      <th>125956</th>\n      <td>ZWE</td>\n      <td>Africa</td>\n      <td>Zimbabwe</td>\n      <td>NaN</td>\n    </tr>\n    <tr>\n      <th>125957</th>\n      <td>ZWE</td>\n      <td>Africa</td>\n      <td>Zimbabwe</td>\n      <td>NaN</td>\n    </tr>\n    <tr>\n      <th>125958</th>\n      <td>ZWE</td>\n      <td>Africa</td>\n      <td>Zimbabwe</td>\n      <td>NaN</td>\n    </tr>\n    <tr>\n      <th>125959</th>\n      <td>ZWE</td>\n      <td>Africa</td>\n      <td>Zimbabwe</td>\n      <td>NaN</td>\n    </tr>\n    <tr>\n      <th>125960</th>\n      <td>ZWE</td>\n      <td>Africa</td>\n      <td>Zimbabwe</td>\n      <td>NaN</td>\n    </tr>\n  </tbody>\n</table>\n<p>125961 rows × 4 columns</p>\n</div>"
     },
     "execution_count": 6,
     "metadata": {},
     "output_type": "execute_result"
    }
   ],
   "source": [
    "fields = ['iso_code', 'continent', 'location', 'tests_units']\n",
    "covid_stat[fields]"
   ]
  },
  {
   "cell_type": "code",
   "execution_count": 7,
   "metadata": {},
   "outputs": [],
   "source": [
    "# covid_stat['tests_units'].count() + covid_stat['tests_units'].isna().sum()"
   ]
  },
  {
   "cell_type": "markdown",
   "metadata": {
    "id": "7GI9FShzjolE"
   },
   "source": [
    "Необхідно відобразити інформацію про поле дата."
   ]
  },
  {
   "cell_type": "code",
   "execution_count": 8,
   "metadata": {},
   "outputs": [
    {
     "data": {
      "text/plain": "0         2020-02-24\n1         2020-02-25\n2         2020-02-26\n3         2020-02-27\n4         2020-02-28\n             ...    \n125956    2021-10-20\n125957    2021-10-21\n125958    2021-10-22\n125959    2021-10-23\n125960    2021-10-24\nName: date, Length: 125961, dtype: object"
     },
     "execution_count": 8,
     "metadata": {},
     "output_type": "execute_result"
    }
   ],
   "source": [
    "covid_stat['date']"
   ]
  },
  {
   "cell_type": "markdown",
   "metadata": {
    "id": "OCAkVRmJjolG"
   },
   "source": [
    "### Зміна типів стовпців"
   ]
  },
  {
   "cell_type": "markdown",
   "metadata": {
    "id": "YOwOer5pjolH"
   },
   "source": [
    "As you can see, the columns: 'iso_code', 'continent', 'location', 'tests_units' have many repetitions and should be assigned to categorical fields **[pandas.astype()](https://pandas.pydata.org/docs/reference/api/pandas.DataFrame.astype.html?highlight=astype#pandas.DataFrame.astype)**.\n",
    "Поле \"дата\" слід перетворити на тип DateTime   **[pandas.to_datetime()](https://pandas.pydata.org/docs/reference/api/pandas.to_datetime.html)**. Для перегляду результатів можна використати наступний код."
   ]
  },
  {
   "cell_type": "code",
   "execution_count": 9,
   "metadata": {
    "id": "W8IQFt5ajolJ"
   },
   "outputs": [
    {
     "data": {
      "text/plain": "       iso_code continent location      tests_units\ncount    125961    120257   125961            66853\nunique      233         6      233                4\ntop         MEX    Africa   Mexico  tests performed\nfreq        663     31837      663            42022",
      "text/html": "<div>\n<style scoped>\n    .dataframe tbody tr th:only-of-type {\n        vertical-align: middle;\n    }\n\n    .dataframe tbody tr th {\n        vertical-align: top;\n    }\n\n    .dataframe thead th {\n        text-align: right;\n    }\n</style>\n<table border=\"1\" class=\"dataframe\">\n  <thead>\n    <tr style=\"text-align: right;\">\n      <th></th>\n      <th>iso_code</th>\n      <th>continent</th>\n      <th>location</th>\n      <th>tests_units</th>\n    </tr>\n  </thead>\n  <tbody>\n    <tr>\n      <th>count</th>\n      <td>125961</td>\n      <td>120257</td>\n      <td>125961</td>\n      <td>66853</td>\n    </tr>\n    <tr>\n      <th>unique</th>\n      <td>233</td>\n      <td>6</td>\n      <td>233</td>\n      <td>4</td>\n    </tr>\n    <tr>\n      <th>top</th>\n      <td>MEX</td>\n      <td>Africa</td>\n      <td>Mexico</td>\n      <td>tests performed</td>\n    </tr>\n    <tr>\n      <th>freq</th>\n      <td>663</td>\n      <td>31837</td>\n      <td>663</td>\n      <td>42022</td>\n    </tr>\n  </tbody>\n</table>\n</div>"
     },
     "execution_count": 9,
     "metadata": {},
     "output_type": "execute_result"
    }
   ],
   "source": [
    "fields = ['iso_code', 'continent', 'location', 'tests_units']\n",
    "covid_stat[fields] = covid_stat[fields].astype('category')\n",
    "covid_stat.loc[:, 'date'] = pd.to_datetime(covid_stat['date'])\n",
    "covid_stat[fields].describe()"
   ]
  },
  {
   "cell_type": "code",
   "execution_count": 10,
   "metadata": {},
   "outputs": [
    {
     "data": {
      "text/plain": "Index(['people tested', 'samples tested', 'tests performed', 'units unclear'], dtype='object')"
     },
     "execution_count": 10,
     "metadata": {},
     "output_type": "execute_result"
    }
   ],
   "source": [
    "covid_stat['tests_units'].cat.categories"
   ]
  },
  {
   "cell_type": "markdown",
   "metadata": {
    "id": "WmHQN9iGjolK"
   },
   "source": [
    "### Фільтрація рядків"
   ]
  },
  {
   "cell_type": "markdown",
   "metadata": {
    "id": "uaPESo_8jolL"
   },
   "source": [
    "Бачимо, що набір даних містить інформацію про 6 континентах та 233 країнах. Поле \"test_units\" складається з 4 категорій. Щоб показати список країн, треба використати **[pandas.Series.cat.categories](https://pandas.pydata.org/docs/reference/api/pandas.Series.cat.categories.html)**."
   ]
  },
  {
   "cell_type": "code",
   "execution_count": 11,
   "metadata": {
    "id": "-IgQLE9RjolL"
   },
   "outputs": [
    {
     "data": {
      "text/plain": "Index(['Afghanistan', 'Africa', 'Albania', 'Algeria', 'Andorra', 'Angola',\n       'Anguilla', 'Antigua and Barbuda', 'Argentina', 'Armenia',\n       ...\n       'Uzbekistan', 'Vanuatu', 'Vatican', 'Venezuela', 'Vietnam',\n       'Wallis and Futuna', 'World', 'Yemen', 'Zambia', 'Zimbabwe'],\n      dtype='object', length=233)"
     },
     "execution_count": 11,
     "metadata": {},
     "output_type": "execute_result"
    }
   ],
   "source": [
    "covid_stat['location'].cat.categories"
   ]
  },
  {
   "cell_type": "markdown",
   "metadata": {
    "id": "80889yb9jolM"
   },
   "source": [
    "Дослідимо динаміку нових випадків COVID-19 для окремої країни. Будемо використовувати Україну для збереження моделей та подальшого прогнозу. \n",
    "Вибір країн здійснюємо згідно індивідуального завдання. \n",
    "Використовуємо для цього фільтр pandas.\n"
   ]
  },
  {
   "cell_type": "code",
   "execution_count": 12,
   "metadata": {},
   "outputs": [],
   "source": [
    "covid_stat.index = covid_stat['date']"
   ]
  },
  {
   "cell_type": "code",
   "execution_count": 13,
   "metadata": {},
   "outputs": [],
   "source": [
    "# covid_stat.index"
   ]
  },
  {
   "cell_type": "code",
   "execution_count": 14,
   "metadata": {
    "id": "CTqsGuIfjolN"
   },
   "outputs": [
    {
     "data": {
      "text/plain": "           iso_code continent  location       date  total_cases  new_cases  \\\ndate                                                                         \n2020-01-30      IND      Asia     India 2020-01-30          1.0        1.0   \n2020-01-31      IND      Asia     India 2020-01-31          1.0        0.0   \n2020-02-01      IND      Asia     India 2020-02-01          1.0        0.0   \n2020-02-02      IND      Asia     India 2020-02-02          2.0        1.0   \n2020-02-03      IND      Asia     India 2020-02-03          3.0        1.0   \n...             ...       ...       ...        ...          ...        ...   \n2021-10-20      PAK      Asia  Pakistan 2021-10-20    1266826.0      622.0   \n2021-10-21      PAK      Asia  Pakistan 2021-10-21    1267393.0      567.0   \n2021-10-22      PAK      Asia  Pakistan 2021-10-22    1267945.0      552.0   \n2021-10-23      PAK      Asia  Pakistan 2021-10-23    1268536.0      591.0   \n2021-10-24      PAK      Asia  Pakistan 2021-10-24    1269234.0      698.0   \n\n            new_cases_smoothed  total_deaths  new_deaths  new_deaths_smoothed  \\\ndate                                                                            \n2020-01-30                 NaN           NaN         NaN                  NaN   \n2020-01-31                 NaN           NaN         NaN                  NaN   \n2020-02-01                 NaN           NaN         NaN                  NaN   \n2020-02-02                 NaN           NaN         NaN                  NaN   \n2020-02-03                 NaN           NaN         NaN                  NaN   \n...                        ...           ...         ...                  ...   \n2021-10-20             734.429       28328.0        16.0               18.143   \n2021-10-21             660.286       28344.0        16.0               16.571   \n2021-10-22             611.571       28359.0        15.0               15.286   \n2021-10-23             593.143       28377.0        18.0               15.429   \n2021-10-24             598.143       28386.0         9.0               15.143   \n\n            ...  female_smokers  male_smokers  handwashing_facilities  \\\ndate        ...                                                         \n2020-01-30  ...             1.9          20.6                  59.550   \n2020-01-31  ...             1.9          20.6                  59.550   \n2020-02-01  ...             1.9          20.6                  59.550   \n2020-02-02  ...             1.9          20.6                  59.550   \n2020-02-03  ...             1.9          20.6                  59.550   \n...         ...             ...           ...                     ...   \n2021-10-20  ...             2.8          36.7                  59.607   \n2021-10-21  ...             2.8          36.7                  59.607   \n2021-10-22  ...             2.8          36.7                  59.607   \n2021-10-23  ...             2.8          36.7                  59.607   \n2021-10-24  ...             2.8          36.7                  59.607   \n\n            hospital_beds_per_thousand  life_expectancy  \\\ndate                                                      \n2020-01-30                        0.53            69.66   \n2020-01-31                        0.53            69.66   \n2020-02-01                        0.53            69.66   \n2020-02-02                        0.53            69.66   \n2020-02-03                        0.53            69.66   \n...                                ...              ...   \n2021-10-20                        0.60            67.27   \n2021-10-21                        0.60            67.27   \n2021-10-22                        0.60            67.27   \n2021-10-23                        0.60            67.27   \n2021-10-24                        0.60            67.27   \n\n            human_development_index  excess_mortality_cumulative_absolute  \\\ndate                                                                        \n2020-01-30                    0.645                                   NaN   \n2020-01-31                    0.645                                   NaN   \n2020-02-01                    0.645                                   NaN   \n2020-02-02                    0.645                                   NaN   \n2020-02-03                    0.645                                   NaN   \n...                             ...                                   ...   \n2021-10-20                    0.557                                   NaN   \n2021-10-21                    0.557                                   NaN   \n2021-10-22                    0.557                                   NaN   \n2021-10-23                    0.557                                   NaN   \n2021-10-24                    0.557                                   NaN   \n\n            excess_mortality_cumulative  excess_mortality  \\\ndate                                                        \n2020-01-30                          NaN               NaN   \n2020-01-31                          NaN               NaN   \n2020-02-01                          NaN               NaN   \n2020-02-02                          NaN               NaN   \n2020-02-03                          NaN               NaN   \n...                                 ...               ...   \n2021-10-20                          NaN               NaN   \n2021-10-21                          NaN               NaN   \n2021-10-22                          NaN               NaN   \n2021-10-23                          NaN               NaN   \n2021-10-24                          NaN               NaN   \n\n            excess_mortality_cumulative_per_million  \ndate                                                 \n2020-01-30                                      NaN  \n2020-01-31                                      NaN  \n2020-02-01                                      NaN  \n2020-02-02                                      NaN  \n2020-02-03                                      NaN  \n...                                             ...  \n2021-10-20                                      NaN  \n2021-10-21                                      NaN  \n2021-10-22                                      NaN  \n2021-10-23                                      NaN  \n2021-10-24                                      NaN  \n\n[1881 rows x 65 columns]",
      "text/html": "<div>\n<style scoped>\n    .dataframe tbody tr th:only-of-type {\n        vertical-align: middle;\n    }\n\n    .dataframe tbody tr th {\n        vertical-align: top;\n    }\n\n    .dataframe thead th {\n        text-align: right;\n    }\n</style>\n<table border=\"1\" class=\"dataframe\">\n  <thead>\n    <tr style=\"text-align: right;\">\n      <th></th>\n      <th>iso_code</th>\n      <th>continent</th>\n      <th>location</th>\n      <th>date</th>\n      <th>total_cases</th>\n      <th>new_cases</th>\n      <th>new_cases_smoothed</th>\n      <th>total_deaths</th>\n      <th>new_deaths</th>\n      <th>new_deaths_smoothed</th>\n      <th>...</th>\n      <th>female_smokers</th>\n      <th>male_smokers</th>\n      <th>handwashing_facilities</th>\n      <th>hospital_beds_per_thousand</th>\n      <th>life_expectancy</th>\n      <th>human_development_index</th>\n      <th>excess_mortality_cumulative_absolute</th>\n      <th>excess_mortality_cumulative</th>\n      <th>excess_mortality</th>\n      <th>excess_mortality_cumulative_per_million</th>\n    </tr>\n    <tr>\n      <th>date</th>\n      <th></th>\n      <th></th>\n      <th></th>\n      <th></th>\n      <th></th>\n      <th></th>\n      <th></th>\n      <th></th>\n      <th></th>\n      <th></th>\n      <th></th>\n      <th></th>\n      <th></th>\n      <th></th>\n      <th></th>\n      <th></th>\n      <th></th>\n      <th></th>\n      <th></th>\n      <th></th>\n      <th></th>\n    </tr>\n  </thead>\n  <tbody>\n    <tr>\n      <th>2020-01-30</th>\n      <td>IND</td>\n      <td>Asia</td>\n      <td>India</td>\n      <td>2020-01-30</td>\n      <td>1.0</td>\n      <td>1.0</td>\n      <td>NaN</td>\n      <td>NaN</td>\n      <td>NaN</td>\n      <td>NaN</td>\n      <td>...</td>\n      <td>1.9</td>\n      <td>20.6</td>\n      <td>59.550</td>\n      <td>0.53</td>\n      <td>69.66</td>\n      <td>0.645</td>\n      <td>NaN</td>\n      <td>NaN</td>\n      <td>NaN</td>\n      <td>NaN</td>\n    </tr>\n    <tr>\n      <th>2020-01-31</th>\n      <td>IND</td>\n      <td>Asia</td>\n      <td>India</td>\n      <td>2020-01-31</td>\n      <td>1.0</td>\n      <td>0.0</td>\n      <td>NaN</td>\n      <td>NaN</td>\n      <td>NaN</td>\n      <td>NaN</td>\n      <td>...</td>\n      <td>1.9</td>\n      <td>20.6</td>\n      <td>59.550</td>\n      <td>0.53</td>\n      <td>69.66</td>\n      <td>0.645</td>\n      <td>NaN</td>\n      <td>NaN</td>\n      <td>NaN</td>\n      <td>NaN</td>\n    </tr>\n    <tr>\n      <th>2020-02-01</th>\n      <td>IND</td>\n      <td>Asia</td>\n      <td>India</td>\n      <td>2020-02-01</td>\n      <td>1.0</td>\n      <td>0.0</td>\n      <td>NaN</td>\n      <td>NaN</td>\n      <td>NaN</td>\n      <td>NaN</td>\n      <td>...</td>\n      <td>1.9</td>\n      <td>20.6</td>\n      <td>59.550</td>\n      <td>0.53</td>\n      <td>69.66</td>\n      <td>0.645</td>\n      <td>NaN</td>\n      <td>NaN</td>\n      <td>NaN</td>\n      <td>NaN</td>\n    </tr>\n    <tr>\n      <th>2020-02-02</th>\n      <td>IND</td>\n      <td>Asia</td>\n      <td>India</td>\n      <td>2020-02-02</td>\n      <td>2.0</td>\n      <td>1.0</td>\n      <td>NaN</td>\n      <td>NaN</td>\n      <td>NaN</td>\n      <td>NaN</td>\n      <td>...</td>\n      <td>1.9</td>\n      <td>20.6</td>\n      <td>59.550</td>\n      <td>0.53</td>\n      <td>69.66</td>\n      <td>0.645</td>\n      <td>NaN</td>\n      <td>NaN</td>\n      <td>NaN</td>\n      <td>NaN</td>\n    </tr>\n    <tr>\n      <th>2020-02-03</th>\n      <td>IND</td>\n      <td>Asia</td>\n      <td>India</td>\n      <td>2020-02-03</td>\n      <td>3.0</td>\n      <td>1.0</td>\n      <td>NaN</td>\n      <td>NaN</td>\n      <td>NaN</td>\n      <td>NaN</td>\n      <td>...</td>\n      <td>1.9</td>\n      <td>20.6</td>\n      <td>59.550</td>\n      <td>0.53</td>\n      <td>69.66</td>\n      <td>0.645</td>\n      <td>NaN</td>\n      <td>NaN</td>\n      <td>NaN</td>\n      <td>NaN</td>\n    </tr>\n    <tr>\n      <th>...</th>\n      <td>...</td>\n      <td>...</td>\n      <td>...</td>\n      <td>...</td>\n      <td>...</td>\n      <td>...</td>\n      <td>...</td>\n      <td>...</td>\n      <td>...</td>\n      <td>...</td>\n      <td>...</td>\n      <td>...</td>\n      <td>...</td>\n      <td>...</td>\n      <td>...</td>\n      <td>...</td>\n      <td>...</td>\n      <td>...</td>\n      <td>...</td>\n      <td>...</td>\n      <td>...</td>\n    </tr>\n    <tr>\n      <th>2021-10-20</th>\n      <td>PAK</td>\n      <td>Asia</td>\n      <td>Pakistan</td>\n      <td>2021-10-20</td>\n      <td>1266826.0</td>\n      <td>622.0</td>\n      <td>734.429</td>\n      <td>28328.0</td>\n      <td>16.0</td>\n      <td>18.143</td>\n      <td>...</td>\n      <td>2.8</td>\n      <td>36.7</td>\n      <td>59.607</td>\n      <td>0.60</td>\n      <td>67.27</td>\n      <td>0.557</td>\n      <td>NaN</td>\n      <td>NaN</td>\n      <td>NaN</td>\n      <td>NaN</td>\n    </tr>\n    <tr>\n      <th>2021-10-21</th>\n      <td>PAK</td>\n      <td>Asia</td>\n      <td>Pakistan</td>\n      <td>2021-10-21</td>\n      <td>1267393.0</td>\n      <td>567.0</td>\n      <td>660.286</td>\n      <td>28344.0</td>\n      <td>16.0</td>\n      <td>16.571</td>\n      <td>...</td>\n      <td>2.8</td>\n      <td>36.7</td>\n      <td>59.607</td>\n      <td>0.60</td>\n      <td>67.27</td>\n      <td>0.557</td>\n      <td>NaN</td>\n      <td>NaN</td>\n      <td>NaN</td>\n      <td>NaN</td>\n    </tr>\n    <tr>\n      <th>2021-10-22</th>\n      <td>PAK</td>\n      <td>Asia</td>\n      <td>Pakistan</td>\n      <td>2021-10-22</td>\n      <td>1267945.0</td>\n      <td>552.0</td>\n      <td>611.571</td>\n      <td>28359.0</td>\n      <td>15.0</td>\n      <td>15.286</td>\n      <td>...</td>\n      <td>2.8</td>\n      <td>36.7</td>\n      <td>59.607</td>\n      <td>0.60</td>\n      <td>67.27</td>\n      <td>0.557</td>\n      <td>NaN</td>\n      <td>NaN</td>\n      <td>NaN</td>\n      <td>NaN</td>\n    </tr>\n    <tr>\n      <th>2021-10-23</th>\n      <td>PAK</td>\n      <td>Asia</td>\n      <td>Pakistan</td>\n      <td>2021-10-23</td>\n      <td>1268536.0</td>\n      <td>591.0</td>\n      <td>593.143</td>\n      <td>28377.0</td>\n      <td>18.0</td>\n      <td>15.429</td>\n      <td>...</td>\n      <td>2.8</td>\n      <td>36.7</td>\n      <td>59.607</td>\n      <td>0.60</td>\n      <td>67.27</td>\n      <td>0.557</td>\n      <td>NaN</td>\n      <td>NaN</td>\n      <td>NaN</td>\n      <td>NaN</td>\n    </tr>\n    <tr>\n      <th>2021-10-24</th>\n      <td>PAK</td>\n      <td>Asia</td>\n      <td>Pakistan</td>\n      <td>2021-10-24</td>\n      <td>1269234.0</td>\n      <td>698.0</td>\n      <td>598.143</td>\n      <td>28386.0</td>\n      <td>9.0</td>\n      <td>15.143</td>\n      <td>...</td>\n      <td>2.8</td>\n      <td>36.7</td>\n      <td>59.607</td>\n      <td>0.60</td>\n      <td>67.27</td>\n      <td>0.557</td>\n      <td>NaN</td>\n      <td>NaN</td>\n      <td>NaN</td>\n      <td>NaN</td>\n    </tr>\n  </tbody>\n</table>\n<p>1881 rows × 65 columns</p>\n</div>"
     },
     "execution_count": 14,
     "metadata": {},
     "output_type": "execute_result"
    }
   ],
   "source": [
    "list_of_values = [\"India\", \"Pakistan\", \"Nepal\"]\n",
    "c_covid = covid_stat[covid_stat['location'].isin(list_of_values)]\n",
    "\n",
    "c_covid"
   ]
  },
  {
   "cell_type": "markdown",
   "metadata": {
    "id": "ZTv5QgLzjolO"
   },
   "source": [
    "Виберемо поля 'new_cases', 'new_cases_smoothed' для прогнозування. Перш за все, необхідно візуалізувати ці дані."
   ]
  },
  {
   "cell_type": "code",
   "execution_count": 16,
   "metadata": {
    "id": "TGc-RyczjolO"
   },
   "outputs": [
    {
     "data": {
      "text/plain": "<Figure size 432x288 with 1 Axes>",
      "image/png": "[encoded data removed]"
     },
     "metadata": {
      "needs_background": "light"
     },
     "output_type": "display_data"
    }
   ],
   "source": [
    "import matplotlib.pyplot as plt\n",
    "\n",
    "\n",
    "fields = ['new_cases', 'new_cases_smoothed']\n",
    "c_covid[fields].plot()\n",
    "plt.show()"
   ]
  },
  {
   "cell_type": "markdown",
   "metadata": {
    "id": "orrIf1ImjolQ"
   },
   "source": [
    "###  Видалення пропущених даних"
   ]
  },
  {
   "cell_type": "markdown",
   "metadata": {
    "id": "OyOgB9-NjolR"
   },
   "source": [
    "Бачимо, у графіку нових випадків є великі коливання. Спробуємо скласти прогноз для цих хвиль. Перш за все, ми повинні видалити відсутні дані за допомогою [*pandas.DataFrame.dropna()*](https://pandas.pydata.org/pandas-docs/stable/reference/api/pandas.DataFrame.dropna.html)."
   ]
  },
  {
   "cell_type": "code",
   "execution_count": 17,
   "metadata": {},
   "outputs": [
    {
     "data": {
      "text/plain": "new_cases              0\nnew_cases_smoothed    15\ndtype: int64"
     },
     "execution_count": 17,
     "metadata": {},
     "output_type": "execute_result"
    }
   ],
   "source": [
    "c_covid[fields].isna().sum()"
   ]
  },
  {
   "cell_type": "code",
   "execution_count": 18,
   "metadata": {
    "id": "9GwadSLqjolS"
   },
   "outputs": [
    {
     "data": {
      "text/plain": "            new_cases  new_cases_smoothed\ndate                                     \n2020-02-04        0.0               0.429\n2020-02-05        0.0               0.429\n2020-02-06        0.0               0.286\n2020-02-07        0.0               0.286\n2020-02-08        0.0               0.286\n...               ...                 ...\n2021-10-20      622.0             734.429\n2021-10-21      567.0             660.286\n2021-10-22      552.0             611.571\n2021-10-23      591.0             593.143\n2021-10-24      698.0             598.143\n\n[1866 rows x 2 columns]",
      "text/html": "<div>\n<style scoped>\n    .dataframe tbody tr th:only-of-type {\n        vertical-align: middle;\n    }\n\n    .dataframe tbody tr th {\n        vertical-align: top;\n    }\n\n    .dataframe thead th {\n        text-align: right;\n    }\n</style>\n<table border=\"1\" class=\"dataframe\">\n  <thead>\n    <tr style=\"text-align: right;\">\n      <th></th>\n      <th>new_cases</th>\n      <th>new_cases_smoothed</th>\n    </tr>\n    <tr>\n      <th>date</th>\n      <th></th>\n      <th></th>\n    </tr>\n  </thead>\n  <tbody>\n    <tr>\n      <th>2020-02-04</th>\n      <td>0.0</td>\n      <td>0.429</td>\n    </tr>\n    <tr>\n      <th>2020-02-05</th>\n      <td>0.0</td>\n      <td>0.429</td>\n    </tr>\n    <tr>\n      <th>2020-02-06</th>\n      <td>0.0</td>\n      <td>0.286</td>\n    </tr>\n    <tr>\n      <th>2020-02-07</th>\n      <td>0.0</td>\n      <td>0.286</td>\n    </tr>\n    <tr>\n      <th>2020-02-08</th>\n      <td>0.0</td>\n      <td>0.286</td>\n    </tr>\n    <tr>\n      <th>...</th>\n      <td>...</td>\n      <td>...</td>\n    </tr>\n    <tr>\n      <th>2021-10-20</th>\n      <td>622.0</td>\n      <td>734.429</td>\n    </tr>\n    <tr>\n      <th>2021-10-21</th>\n      <td>567.0</td>\n      <td>660.286</td>\n    </tr>\n    <tr>\n      <th>2021-10-22</th>\n      <td>552.0</td>\n      <td>611.571</td>\n    </tr>\n    <tr>\n      <th>2021-10-23</th>\n      <td>591.0</td>\n      <td>593.143</td>\n    </tr>\n    <tr>\n      <th>2021-10-24</th>\n      <td>698.0</td>\n      <td>598.143</td>\n    </tr>\n  </tbody>\n</table>\n<p>1866 rows × 2 columns</p>\n</div>"
     },
     "execution_count": 18,
     "metadata": {},
     "output_type": "execute_result"
    }
   ],
   "source": [
    "c_covid = c_covid[fields].dropna()\n",
    "c_covid"
   ]
  },
  {
   "cell_type": "markdown",
   "metadata": {
    "id": "0g93hJUJjolT"
   },
   "source": [
    "### Перетворення даних"
   ]
  },
  {
   "cell_type": "markdown",
   "metadata": {
    "id": "kXxia8tOjolT"
   },
   "source": [
    "Якщо ми хочемо зробити прогноз часових рядів, єдине припущення, яке можна зробити - дані на сьогоднішній день залежать від значень попередніх днів. Щоб перевірити чи є залежності, необхідно провести кореляційний аналіз між ними. Для цього потрібно зробити:\n",
    "1. Дублювання часового ряду даних та переміщення даних вертикально вниз протягом певної кількості днів затримки (lag).\n",
    "2. Видалення відсутніх даних на початку та в кінці (вони формуються шляхом вертикального зсуву **[pandas.DataFrame.shift()](https://pandas.pydata.org/pandas-docs/stable/reference/api/pandas.DataFrame.shift.html)**.\n",
    "3. Обчислення коефіцієнта кореляції між отриманими рядами.\n",
    "\n",
    "Оскільки цю операцію слід виконувати для різних значень затримки (lag), зручно створити окрему функцію:\n"
   ]
  },
  {
   "cell_type": "code",
   "execution_count": 19,
   "metadata": {
    "id": "TsFjwyuLjolV"
   },
   "outputs": [],
   "source": [
    "def lag_correlation_ts(y, x, lag):\n",
    "    \"\"\"\n",
    "    Lag correlation for 2 DateSeries\n",
    "    :param y: fixed\n",
    "    :param x: shifted\n",
    "    :param lag: lag for shifting\n",
    "    :return: DataFrame of lags correlation coefficients\n",
    "    \"\"\"\n",
    "    r = [0] * (lag + 1)\n",
    "    y = y.copy()\n",
    "    x = x.copy()\n",
    "    y.name = \"y\"\n",
    "    x.name = \"x\"\n",
    "\n",
    "    for i in range(0, lag + 1):\n",
    "        ds = y.copy().to_frame()\n",
    "        ds = ds.join(x.shift(i), how='outer')\n",
    "        r[i] = ds.corr().values[0][1]\n",
    "    r = pd.DataFrame(r)\n",
    "    r.index.names = ['Lag']\n",
    "    r.columns = ['Correlation']\n",
    "    return r"
   ]
  },
  {
   "cell_type": "markdown",
   "metadata": {
    "id": "zEWzS05xjolX"
   },
   "source": [
    "Cтворимо цільовий (target) набір даних."
   ]
  },
  {
   "cell_type": "code",
   "execution_count": 20,
   "metadata": {
    "id": "x0dTv-hAjolY"
   },
   "outputs": [
    {
     "data": {
      "text/plain": "date\n2020-02-04      0.0\n2020-02-05      0.0\n2020-02-06      0.0\n2020-02-07      0.0\n2020-02-08      0.0\n              ...  \n2021-10-20    622.0\n2021-10-21    567.0\n2021-10-22    552.0\n2021-10-23    591.0\n2021-10-24    698.0\nName: new_cases, Length: 1866, dtype: float64"
     },
     "execution_count": 20,
     "metadata": {},
     "output_type": "execute_result"
    }
   ],
   "source": [
    "t_dataset = c_covid['new_cases']\n",
    "t_dataset"
   ]
  },
  {
   "cell_type": "markdown",
   "metadata": {
    "id": "LxE_B-hWjolY"
   },
   "source": [
    "Протестуємо 30-денну затримку."
   ]
  },
  {
   "cell_type": "code",
   "execution_count": 21,
   "metadata": {
    "id": "Q5JvTDvPjolZ"
   },
   "outputs": [
    {
     "name": "stdout",
     "output_type": "stream",
     "text": [
      "     Correlation\n",
      "Lag             \n",
      "0         0.2678\n",
      "1         0.2662\n",
      "2         0.2648\n",
      "3         0.2634\n",
      "4         0.2617\n",
      "5         0.2598\n",
      "6         0.2580\n",
      "7         0.2555\n",
      "8         0.2515\n",
      "9         0.2470\n",
      "10        0.2428\n",
      "11        0.2384\n",
      "12        0.2338\n",
      "13        0.2294\n",
      "14        0.2246\n",
      "15        0.2183\n",
      "16        0.2118\n",
      "17        0.2058\n",
      "18        0.1996\n",
      "19        0.1934\n",
      "20        0.1874\n",
      "21        0.1812\n",
      "22        0.1739\n",
      "23        0.1666\n",
      "24        0.1598\n",
      "25        0.1532\n",
      "26        0.1466\n",
      "27        0.1404\n",
      "28        0.1341\n",
      "29        0.1269\n",
      "30        0.1199\n"
     ]
    },
    {
     "data": {
      "text/plain": "<AxesSubplot:xlabel='Lag'>"
     },
     "execution_count": 21,
     "metadata": {},
     "output_type": "execute_result"
    },
    {
     "data": {
      "text/plain": "<Figure size 432x288 with 1 Axes>",
      "image/png": "[encoded data removed]"
     },
     "metadata": {
      "needs_background": "light"
     },
     "output_type": "display_data"
    }
   ],
   "source": [
    "pd.options.display.float_format = '{:,.4f}'.format\n",
    "l = pd.DataFrame(lag_correlation_ts(t_dataset, t_dataset, 30))  # For time series we should use t_Dataset like input and output\n",
    "print(l)\n",
    "l.plot()"
   ]
  },
  {
   "cell_type": "markdown",
   "metadata": {
    "id": "68utuWVOjolZ"
   },
   "source": [
    "Бачимо, що на ділянці затримки спостерігаються деякі хвилі. З таблиці видно, що на кожен сьомий день припадає пік. (Максимальний час затримки: 7, 14, 21 тощо). Це пов'язано з тижневим циклом.\n",
    "Будь-яку модель прогнозу можна показати у вигляді чорного ящика типу введення-цілі. Цільовими мають бути дані вихідного часового ряду, а вхідними - значення за попередні дні. (Див. рис.1)\n",
    "Щоб автоматизувати цей процес, давайте зробимо універсальну функцію перетворення часових рядів для створення цього набору даних."
   ]
  },
  {
   "cell_type": "markdown",
   "metadata": {
    "id": "x3q71X2qjola"
   },
   "source": [
    "<center>\n",
    "    <img src=\"https://cf-courses-data.s3.us.cloud-object-storage.appdomain.cloud/data-science-in-health-care-advanced-prognostication-using-by-neural-networks/FM.png\" width=\"1000\" alt=\"cognitiveclass.ai logo\"  />\n",
    "</center>"
   ]
  },
  {
   "cell_type": "markdown",
   "metadata": {
    "id": "-eZ9tcidjola"
   },
   "source": [
    "Рис.1 Структура моделі прогнозування"
   ]
  },
  {
   "cell_type": "markdown",
   "metadata": {
    "id": "-eZ9tcidjola"
   },
   "source": [
    "\n",
    "Щоб автоматизувати цей процес, треба зробити універсальну функцію перетворення часових рядів для створення цього набору даних."
   ]
  },
  {
   "cell_type": "code",
   "execution_count": 22,
   "metadata": {
    "id": "D6AFsIPsjolb"
   },
   "outputs": [],
   "source": [
    "def series_to_supervised(in_data, tar_data, n_in=1, dropnan=True, target_dep=False):\n",
    "    \"\"\"\n",
    "    Transformation into a training sample taking into account the lag\n",
    "     : param in_data: Input fields\n",
    "     : param tar_data: Output field (single)\n",
    "     : param n_in: Lag shift\n",
    "     : param dropnan: Do destroy empty lines\n",
    "     : param target_dep: Whether to take into account the lag of the input field. If taken into account, the input will start with a lag 1\n",
    "     : return: Training sample. The last field is the source\n",
    "    \"\"\"\n",
    "\n",
    "    n_vars = in_data.shape[1]\n",
    "    cols, names = list(), list()\n",
    "\n",
    "    if target_dep:\n",
    "        i_start = 1\n",
    "    else:\n",
    "        i_start = 0\n",
    "    for i in range(i_start, n_in + 1):\n",
    "        cols.append(in_data.shift(i))\n",
    "        names += [('%s(t-%d)' % (in_data.columns[j], i)) for j in range(n_vars)]\n",
    "\n",
    "    if target_dep:\n",
    "        for i in range(n_in, -1, -1):\n",
    "            cols.append(tar_data.shift(i))\n",
    "            names += [('%s(t-%d)' % (tar_data.name, i))]\n",
    "    else:\n",
    "        # put it all together\n",
    "        cols.append(tar_data)\n",
    "        names.append(tar_data.name)\n",
    "    agg = pd.concat(cols, axis=1)\n",
    "    agg.columns = names\n",
    "\n",
    "    # drop rows with NaN values\n",
    "    if dropnan:\n",
    "        agg.dropna(inplace=True)\n",
    "\n",
    "    return agg"
   ]
  },
  {
   "cell_type": "markdown",
   "metadata": {
    "id": "Rz7l6YB7jolc"
   },
   "source": [
    "Як згадувалося вище, при прогнозуванні часових рядів поля введення та виведення є однаковими, лише зміщуються на затримку (lag)."
   ]
  },
  {
   "cell_type": "code",
   "execution_count": 23,
   "metadata": {
    "id": "aUQorOh_jolc"
   },
   "outputs": [
    {
     "data": {
      "text/plain": "            new_cases(t-0)  new_cases(t-1)  new_cases(t-2)  new_cases(t-3)  \\\ndate                                                                         \n2020-02-18          0.0000          0.0000          0.0000          0.0000   \n2020-02-19          0.0000          0.0000          0.0000          0.0000   \n2020-02-20          0.0000          0.0000          0.0000          0.0000   \n2020-02-21          0.0000          0.0000          0.0000          0.0000   \n2020-02-22          0.0000          0.0000          0.0000          0.0000   \n...                    ...             ...             ...             ...   \n2021-10-20        622.0000        554.0000        603.0000        663.0000   \n2021-10-21        567.0000        622.0000        554.0000        603.0000   \n2021-10-22        552.0000        567.0000        622.0000        554.0000   \n2021-10-23        591.0000        552.0000        567.0000        622.0000   \n2021-10-24        698.0000        591.0000        552.0000        567.0000   \n\n            new_cases(t-4)  new_cases(t-5)  new_cases(t-6)  new_cases(t-7)  \\\ndate                                                                         \n2020-02-18          0.0000          0.0000          0.0000          0.0000   \n2020-02-19          0.0000          0.0000          0.0000          0.0000   \n2020-02-20          0.0000          0.0000          0.0000          0.0000   \n2020-02-21          0.0000          0.0000          0.0000          0.0000   \n2020-02-22          0.0000          0.0000          0.0000          0.0000   \n...                    ...             ...             ...             ...   \n2021-10-20        720.0000        893.0000      1,086.0000      1,016.0000   \n2021-10-21        663.0000        720.0000        893.0000      1,086.0000   \n2021-10-22        603.0000        663.0000        720.0000        893.0000   \n2021-10-23        554.0000        603.0000        663.0000        720.0000   \n2021-10-24        622.0000        554.0000        603.0000        663.0000   \n\n            new_cases(t-8)  new_cases(t-9)  new_cases(t-10)  new_cases(t-11)  \\\ndate                                                                           \n2020-02-18          0.0000          0.0000           0.0000           0.0000   \n2020-02-19          0.0000          0.0000           0.0000           0.0000   \n2020-02-20          0.0000          0.0000           0.0000           0.0000   \n2020-02-21          0.0000          0.0000           0.0000           0.0000   \n2020-02-22          0.0000          0.0000           0.0000           0.0000   \n...                    ...             ...              ...              ...   \n2021-10-20      1,021.0000        689.0000         944.0000         827.0000   \n2021-10-21      1,016.0000      1,021.0000         689.0000         944.0000   \n2021-10-22      1,086.0000      1,016.0000       1,021.0000         689.0000   \n2021-10-23        893.0000      1,086.0000       1,016.0000       1,021.0000   \n2021-10-24        720.0000        893.0000       1,086.0000       1,016.0000   \n\n            new_cases(t-12)  new_cases(t-13)  new_cases(t-14)  new_cases  \ndate                                                                      \n2020-02-18           0.0000           0.0000           0.0000     0.0000  \n2020-02-19           0.0000           0.0000           0.0000     0.0000  \n2020-02-20           0.0000           0.0000           0.0000     0.0000  \n2020-02-21           0.0000           0.0000           0.0000     0.0000  \n2020-02-22           0.0000           0.0000           0.0000     0.0000  \n...                     ...              ...              ...        ...  \n2021-10-20         955.0000         912.0000       1,453.0000   622.0000  \n2021-10-21         827.0000         955.0000         912.0000   567.0000  \n2021-10-22         944.0000         827.0000         955.0000   552.0000  \n2021-10-23         689.0000         944.0000         827.0000   591.0000  \n2021-10-24       1,021.0000         689.0000         944.0000   698.0000  \n\n[1852 rows x 16 columns]",
      "text/html": "<div>\n<style scoped>\n    .dataframe tbody tr th:only-of-type {\n        vertical-align: middle;\n    }\n\n    .dataframe tbody tr th {\n        vertical-align: top;\n    }\n\n    .dataframe thead th {\n        text-align: right;\n    }\n</style>\n<table border=\"1\" class=\"dataframe\">\n  <thead>\n    <tr style=\"text-align: right;\">\n      <th></th>\n      <th>new_cases(t-0)</th>\n      <th>new_cases(t-1)</th>\n      <th>new_cases(t-2)</th>\n      <th>new_cases(t-3)</th>\n      <th>new_cases(t-4)</th>\n      <th>new_cases(t-5)</th>\n      <th>new_cases(t-6)</th>\n      <th>new_cases(t-7)</th>\n      <th>new_cases(t-8)</th>\n      <th>new_cases(t-9)</th>\n      <th>new_cases(t-10)</th>\n      <th>new_cases(t-11)</th>\n      <th>new_cases(t-12)</th>\n      <th>new_cases(t-13)</th>\n      <th>new_cases(t-14)</th>\n      <th>new_cases</th>\n    </tr>\n    <tr>\n      <th>date</th>\n      <th></th>\n      <th></th>\n      <th></th>\n      <th></th>\n      <th></th>\n      <th></th>\n      <th></th>\n      <th></th>\n      <th></th>\n      <th></th>\n      <th></th>\n      <th></th>\n      <th></th>\n      <th></th>\n      <th></th>\n      <th></th>\n    </tr>\n  </thead>\n  <tbody>\n    <tr>\n      <th>2020-02-18</th>\n      <td>0.0000</td>\n      <td>0.0000</td>\n      <td>0.0000</td>\n      <td>0.0000</td>\n      <td>0.0000</td>\n      <td>0.0000</td>\n      <td>0.0000</td>\n      <td>0.0000</td>\n      <td>0.0000</td>\n      <td>0.0000</td>\n      <td>0.0000</td>\n      <td>0.0000</td>\n      <td>0.0000</td>\n      <td>0.0000</td>\n      <td>0.0000</td>\n      <td>0.0000</td>\n    </tr>\n    <tr>\n      <th>2020-02-19</th>\n      <td>0.0000</td>\n      <td>0.0000</td>\n      <td>0.0000</td>\n      <td>0.0000</td>\n      <td>0.0000</td>\n      <td>0.0000</td>\n      <td>0.0000</td>\n      <td>0.0000</td>\n      <td>0.0000</td>\n      <td>0.0000</td>\n      <td>0.0000</td>\n      <td>0.0000</td>\n      <td>0.0000</td>\n      <td>0.0000</td>\n      <td>0.0000</td>\n      <td>0.0000</td>\n    </tr>\n    <tr>\n      <th>2020-02-20</th>\n      <td>0.0000</td>\n      <td>0.0000</td>\n      <td>0.0000</td>\n      <td>0.0000</td>\n      <td>0.0000</td>\n      <td>0.0000</td>\n      <td>0.0000</td>\n      <td>0.0000</td>\n      <td>0.0000</td>\n      <td>0.0000</td>\n      <td>0.0000</td>\n      <td>0.0000</td>\n      <td>0.0000</td>\n      <td>0.0000</td>\n      <td>0.0000</td>\n      <td>0.0000</td>\n    </tr>\n    <tr>\n      <th>2020-02-21</th>\n      <td>0.0000</td>\n      <td>0.0000</td>\n      <td>0.0000</td>\n      <td>0.0000</td>\n      <td>0.0000</td>\n      <td>0.0000</td>\n      <td>0.0000</td>\n      <td>0.0000</td>\n      <td>0.0000</td>\n      <td>0.0000</td>\n      <td>0.0000</td>\n      <td>0.0000</td>\n      <td>0.0000</td>\n      <td>0.0000</td>\n      <td>0.0000</td>\n      <td>0.0000</td>\n    </tr>\n    <tr>\n      <th>2020-02-22</th>\n      <td>0.0000</td>\n      <td>0.0000</td>\n      <td>0.0000</td>\n      <td>0.0000</td>\n      <td>0.0000</td>\n      <td>0.0000</td>\n      <td>0.0000</td>\n      <td>0.0000</td>\n      <td>0.0000</td>\n      <td>0.0000</td>\n      <td>0.0000</td>\n      <td>0.0000</td>\n      <td>0.0000</td>\n      <td>0.0000</td>\n      <td>0.0000</td>\n      <td>0.0000</td>\n    </tr>\n    <tr>\n      <th>...</th>\n      <td>...</td>\n      <td>...</td>\n      <td>...</td>\n      <td>...</td>\n      <td>...</td>\n      <td>...</td>\n      <td>...</td>\n      <td>...</td>\n      <td>...</td>\n      <td>...</td>\n      <td>...</td>\n      <td>...</td>\n      <td>...</td>\n      <td>...</td>\n      <td>...</td>\n      <td>...</td>\n    </tr>\n    <tr>\n      <th>2021-10-20</th>\n      <td>622.0000</td>\n      <td>554.0000</td>\n      <td>603.0000</td>\n      <td>663.0000</td>\n      <td>720.0000</td>\n      <td>893.0000</td>\n      <td>1,086.0000</td>\n      <td>1,016.0000</td>\n      <td>1,021.0000</td>\n      <td>689.0000</td>\n      <td>944.0000</td>\n      <td>827.0000</td>\n      <td>955.0000</td>\n      <td>912.0000</td>\n      <td>1,453.0000</td>\n      <td>622.0000</td>\n    </tr>\n    <tr>\n      <th>2021-10-21</th>\n      <td>567.0000</td>\n      <td>622.0000</td>\n      <td>554.0000</td>\n      <td>603.0000</td>\n      <td>663.0000</td>\n      <td>720.0000</td>\n      <td>893.0000</td>\n      <td>1,086.0000</td>\n      <td>1,016.0000</td>\n      <td>1,021.0000</td>\n      <td>689.0000</td>\n      <td>944.0000</td>\n      <td>827.0000</td>\n      <td>955.0000</td>\n      <td>912.0000</td>\n      <td>567.0000</td>\n    </tr>\n    <tr>\n      <th>2021-10-22</th>\n      <td>552.0000</td>\n      <td>567.0000</td>\n      <td>622.0000</td>\n      <td>554.0000</td>\n      <td>603.0000</td>\n      <td>663.0000</td>\n      <td>720.0000</td>\n      <td>893.0000</td>\n      <td>1,086.0000</td>\n      <td>1,016.0000</td>\n      <td>1,021.0000</td>\n      <td>689.0000</td>\n      <td>944.0000</td>\n      <td>827.0000</td>\n      <td>955.0000</td>\n      <td>552.0000</td>\n    </tr>\n    <tr>\n      <th>2021-10-23</th>\n      <td>591.0000</td>\n      <td>552.0000</td>\n      <td>567.0000</td>\n      <td>622.0000</td>\n      <td>554.0000</td>\n      <td>603.0000</td>\n      <td>663.0000</td>\n      <td>720.0000</td>\n      <td>893.0000</td>\n      <td>1,086.0000</td>\n      <td>1,016.0000</td>\n      <td>1,021.0000</td>\n      <td>689.0000</td>\n      <td>944.0000</td>\n      <td>827.0000</td>\n      <td>591.0000</td>\n    </tr>\n    <tr>\n      <th>2021-10-24</th>\n      <td>698.0000</td>\n      <td>591.0000</td>\n      <td>552.0000</td>\n      <td>567.0000</td>\n      <td>622.0000</td>\n      <td>554.0000</td>\n      <td>603.0000</td>\n      <td>663.0000</td>\n      <td>720.0000</td>\n      <td>893.0000</td>\n      <td>1,086.0000</td>\n      <td>1,016.0000</td>\n      <td>1,021.0000</td>\n      <td>689.0000</td>\n      <td>944.0000</td>\n      <td>698.0000</td>\n    </tr>\n  </tbody>\n</table>\n<p>1852 rows × 16 columns</p>\n</div>"
     },
     "execution_count": 23,
     "metadata": {},
     "output_type": "execute_result"
    }
   ],
   "source": [
    "dataset = series_to_supervised(pd.DataFrame(t_dataset), t_dataset, 14)\n",
    "dataset"
   ]
  },
  {
   "cell_type": "markdown",
   "metadata": {
    "id": "uyhomtQOjold"
   },
   "source": [
    "Отже перший і останній стовпці містять однакові цільові дані. Тепер треба створити набори даних вхідних (**X**) та вихідних (**Y**) даних для моделей прогнозування."
   ]
  },
  {
   "cell_type": "code",
   "execution_count": 24,
   "metadata": {
    "id": "HfNkGMxYjold"
   },
   "outputs": [
    {
     "name": "stdout",
     "output_type": "stream",
     "text": [
      "Input:  Index(['new_cases(t-1)', 'new_cases(t-2)', 'new_cases(t-3)', 'new_cases(t-4)',\n",
      "       'new_cases(t-5)', 'new_cases(t-6)', 'new_cases(t-7)', 'new_cases(t-8)',\n",
      "       'new_cases(t-9)', 'new_cases(t-10)', 'new_cases(t-11)',\n",
      "       'new_cases(t-12)', 'new_cases(t-13)', 'new_cases(t-14)'],\n",
      "      dtype='object')\n",
      "Target: new_cases\n"
     ]
    }
   ],
   "source": [
    "col = dataset.columns\n",
    "X, Y = dataset[col[1:-1]], dataset[col[-1]]\n",
    "print(\"Input: \", X.columns)\n",
    "print(\"Target:\", Y.name)"
   ]
  },
  {
   "cell_type": "markdown",
   "metadata": {
    "id": "Fe_XPrg2jole"
   },
   "source": [
    "### Нормування даних"
   ]
  },
  {
   "cell_type": "markdown",
   "metadata": {
    "id": "BDsWx7rHjolf"
   },
   "source": [
    "Після цього ми повинні нормалізувати всі дані. Для цього слід використовувати модуль  [**sklearn.preprocessing.MinMaxScaler**](https://scikit-learn.org/stable/modules/generated/sklearn.preprocessing.MinMaxScaler.html). \n",
    "Це дозволяє нам нормалізувати   [**fit_transform()**](https://scikit-learn.org/stable/modules/generated/sklearn.preprocessing.MinMaxScaler.html#sklearn.preprocessing.MinMaxScaler.fit_transform) легко конвертувати всі дані назад: [**fit_transform()**](https://scikit-learn.org/stable/modules/generated/sklearn.preprocessing.MinMaxScaler.html#sklearn.preprocessing.MinMaxScaler.inverse_transform).\n"
   ]
  },
  {
   "cell_type": "code",
   "execution_count": 26,
   "metadata": {
    "id": "33T04gPBjolf"
   },
   "outputs": [],
   "source": [
    "from sklearn.preprocessing import MinMaxScaler\n",
    "\n",
    "\n",
    "scaler_x = MinMaxScaler(feature_range=(0, 1))\n",
    "scaler_y = MinMaxScaler(feature_range=(0, 1))\n",
    "\n",
    "scaled_x = scaler_x.fit_transform(X)\n",
    "scaled_y = scaler_y.fit_transform(Y.values.reshape(-1, 1))"
   ]
  },
  {
   "cell_type": "markdown",
   "metadata": {
    "id": "1S3RMN93jolg"
   },
   "source": [
    "Після цього ми збираємося сформувати навчальні та перевірити набори даних за допомогою [**sklearn.model_selection.train_test_split()**](https://scikit-learn.org/stable/modules/generated/sklearn.model_selection.train_test_split.html).\n",
    "Ми зробимо їх у співвідношенні 70/30. Без перемішування. Це означає, що тестові зразки розташовані в кінці наборів даних X і Y.\n",
    "\n",
    "Введення нормалізованих наборів даних: **X_train, X_test**\n",
    "\n",
    "Цільові нормалізовані набори даних: **y_train, y_test**"
   ]
  },
  {
   "cell_type": "code",
   "execution_count": 27,
   "metadata": {
    "id": "5PCYCVmOjoli"
   },
   "outputs": [],
   "source": [
    "from sklearn.model_selection import train_test_split\n",
    "\n",
    "\n",
    "X_train, X_test, y_train, y_test = train_test_split(scaled_x, scaled_y, test_size=0.3, shuffle=False)"
   ]
  },
  {
   "cell_type": "markdown",
   "metadata": {
    "id": "tMMBy15ejolk"
   },
   "source": [
    "Зараз усі дані нормалізовані. Однак, для порівняння з результатами, нам потрібні дані реального масштабу навчального та тестового набору даних::"
   ]
  },
  {
   "cell_type": "code",
   "execution_count": 28,
   "metadata": {
    "id": "6GNfTSkcjoll"
   },
   "outputs": [],
   "source": [
    "res_train = scaler_y.inverse_transform(y_train).flatten()\n",
    "res_test = scaler_y.inverse_transform(y_test).flatten()"
   ]
  },
  {
   "cell_type": "markdown",
   "metadata": {
    "id": "Ir65XC3ujoln"
   },
   "source": [
    "Цільові набори даних реального масштабу: **res_train, res_test**."
   ]
  },
  {
   "cell_type": "markdown",
   "metadata": {
    "id": "parEDxGDjoln"
   },
   "source": [
    "# Лінійна регресія"
   ]
  },
  {
   "cell_type": "markdown",
   "metadata": {
    "id": "5h7sFVjXjolo"
   },
   "source": [
    "Перш за все, треба створити модель. Ми перевіримо три типи моделей. Лінійна регресія, багатошарова нейронна мережа зі зворотним поширенням помилки та нейромережа з довгою короткостроковою пам'яттю. Створимо a [**LinearRegression()**](https://scikit-learn.org/stable/modules/generated/sklearn.linear_model.LinearRegression.html): "
   ]
  },
  {
   "cell_type": "code",
   "execution_count": 29,
   "metadata": {
    "id": "bYQ4Lq0Yjolo"
   },
   "outputs": [],
   "source": [
    "from sklearn.linear_model import LinearRegression\n",
    "\n",
    "\n",
    "regressor = LinearRegression()"
   ]
  },
  {
   "cell_type": "markdown",
   "metadata": {
    "id": "KjZOYP67jolp"
   },
   "source": [
    "Після цього наша модель повинна бути тренована на навчальному наборі даних. Незалежно від типу моделі, для цього використовується функція fit()."
   ]
  },
  {
   "cell_type": "code",
   "execution_count": 30,
   "metadata": {
    "id": "1Jo2bfiljolq"
   },
   "outputs": [
    {
     "data": {
      "text/plain": "LinearRegression()"
     },
     "execution_count": 30,
     "metadata": {},
     "output_type": "execute_result"
    }
   ],
   "source": [
    "regressor.fit(X_train, y_train)"
   ]
  },
  {
   "cell_type": "markdown",
   "metadata": {
    "id": "lbkIVFfSjolq"
   },
   "source": [
    "Тоді ми можемо перевірити його на тестовому наборі даних та використовувати для прогнозування. "
   ]
  },
  {
   "cell_type": "code",
   "execution_count": 31,
   "metadata": {
    "id": "SWoFdKSIjolr"
   },
   "outputs": [],
   "source": [
    "y_pred_test_ln = regressor.predict(X_test)\n",
    "y_pred_test_ln = scaler_y.inverse_transform(y_pred_test_ln).flatten()"
   ]
  },
  {
   "cell_type": "markdown",
   "metadata": {
    "id": "4F7iRfRljolr"
   },
   "source": [
    "Аналізуємо точність моделі, використовуючи **[sklearn.metrics](https://scikit-learn.org/stable/modules/model_evaluation.html)**."
   ]
  },
  {
   "cell_type": "code",
   "execution_count": 32,
   "metadata": {
    "id": "rOrh-hlajols"
   },
   "outputs": [
    {
     "name": "stdout",
     "output_type": "stream",
     "text": [
      "Correlation train 0.9951355345128811\n",
      "Correlation test 0.6181995314717258\n",
      "Mean Absolute Error: 2490.301463083446\n",
      "Mean Squared Error: 8709100.069091154\n",
      "Root Mean Squared Error: 2951.118443758426\n"
     ]
    }
   ],
   "source": [
    "from sklearn import metrics\n",
    "\n",
    "\n",
    "print(\"Correlation train\", regressor.score(X_train, y_train))\n",
    "print(\"Correlation test\", regressor.score(X_test, y_test))\n",
    "print('Mean Absolute Error:', metrics.mean_absolute_error(y_test, y_pred_test_ln))\n",
    "print('Mean Squared Error:', metrics.mean_squared_error(y_test, y_pred_test_ln))\n",
    "print('Root Mean Squared Error:', np.sqrt(metrics.mean_squared_error(y_test, y_pred_test_ln)))"
   ]
  },
  {
   "cell_type": "markdown",
   "metadata": {
    "id": "FyaTCujkjols"
   },
   "source": [
    "# Метод зворотного поширення помилки (Back Propagation NN)"
   ]
  },
  {
   "cell_type": "markdown",
   "metadata": {
    "id": "BP7FKPRVjolt"
   },
   "source": [
    "Сучасний підхід до встановлення складних функціональних залежностей полягає у використанні нейронних мереж. Класична нейронна мережа - це багатошарова нейронна мережа із зворотним поширенням. [**multilayer neural network with back propagation**](https://en.wikipedia.org/wiki/Backpropagation).\n",
    "\n",
    "Для цього використаємо [**keras**](https://keras.io) фреймворк.\n",
    "Перш за все, ми повинні створити модель нейронної мережі як окрему функцію.\n",
    "\n",
    "Нейронна мережа - це послідовність шарів. Функція [**Sequential()**](https://keras.io/guides/sequential_model/) використовується для створення мережі.\n",
    "\n",
    "Вихідний шар буде складатися з одного нейрона, оскільки у нас на виході є лише одне значення\n",
    "[**keras.layers.Dense()**](https://keras.io/api/layers/core_layers/dense/).\n",
    "\n",
    "Щоб уникнути проблем з перенавчанням, ми будемо використовувати додаткові шари [**keras.layers.Dropout()**](https://keras.io/api/layers/regularization_layers/dropout/).\n",
    "\n",
    "Модель необхідно зкомпілювати для підгонки та прогнозування:\n",
    " [**keras.Model.compile()**](https://keras.io/api/models/model_training_apis/).\n",
    "Сучасний підхід до визначення складних функціональних залежностей полягає у використанні нейронних мереж. Класична нейронна мережа - це багатошарова нейронна мережа із зворотним поширенням.\n",
    "\n",
    "Для цього ми будемо використовувати фреймворк keras. Перш за все, ми повинні створити модель нейронної мережі як окрему функцію.\n",
    "\n",
    "Нейронна мережа - це послідовність шарів. Функція Sequential() використовується для створення мережі.\n",
    "\n",
    "Створимо мережу, яка складається з 2 прихованих шарів. Кожен з яких складається з 100 нейронів. keras.layers.Dense().\n",
    "\n",
    "Щоб уникнути проблем з перепідготовкою, ми будемо використовувати додаткові шари keras.layers.Dropout().\n",
    "\n",
    "Вихідний шар буде складатися з одного нейрона, оскільки у нас на виході є лише одне значення.\n",
    "\n",
    "Модель слід зібрати для підгонки та прогнозування: keras.Model.compile ()."
   ]
  },
  {
   "cell_type": "code",
   "execution_count": 33,
   "metadata": {
    "id": "InbG_JsPjolt"
   },
   "outputs": [],
   "source": [
    "def BP_model(X):\n",
    "    \"\"\"\n",
    "    Multilayer neural network with back propagation.\n",
    "    :param X: Input DataSet\n",
    "    :return: keras NN model\n",
    "    \"\"\"\n",
    "    # create model\n",
    "    model = Sequential() \n",
    "    model.add(Dense(100, input_dim=X.shape[1], kernel_initializer='normal', activation='relu'))\n",
    "    model.add(Dropout(0.2))\n",
    "    model.add(Dense(100, kernel_initializer='normal', activation='relu'))\n",
    "    model.add(Dropout(0.2))\n",
    "    model.add(Dense(1, kernel_initializer='normal'))\n",
    "    # Compile model\n",
    "    model.compile(loss='mean_squared_error', optimizer='adam')\n",
    "    return model"
   ]
  },
  {
   "cell_type": "markdown",
   "metadata": {
    "id": "k27IMZkejolu"
   },
   "source": [
    "Після того, як функція моделі буде побудована, необхідно безпосередньо створити нейронну мережу та вказати параметри навчання:   [**keras.wrappers.scikit_learn.KerasRegressor()**](https://keras.io/zh/scikit-learn-api/). Також слід визначити кількість епох припасування та розмір навчальної вибірки: [**epoch and batch size**](https://machinelearningmastery.com/difference-between-a-batch-and-an-epoch/).\n"
   ]
  },
  {
   "cell_type": "code",
   "execution_count": 38,
   "metadata": {
    "id": "ebZl4TYHjolu"
   },
   "outputs": [
    {
     "ename": "ModuleNotFoundError",
     "evalue": "No module named 'tensorflow'",
     "output_type": "error",
     "traceback": [
      "\u001B[1;31m---------------------------------------------------------------------------\u001B[0m",
      "\u001B[1;31mModuleNotFoundError\u001B[0m                       Traceback (most recent call last)",
      "\u001B[1;32m~\\AppData\\Local\\Temp/ipykernel_9808/3174356202.py\u001B[0m in \u001B[0;36m<module>\u001B[1;34m\u001B[0m\n\u001B[1;32m----> 1\u001B[1;33m \u001B[1;32mfrom\u001B[0m \u001B[0mkeras\u001B[0m\u001B[1;33m.\u001B[0m\u001B[0mwrappers\u001B[0m\u001B[1;33m.\u001B[0m\u001B[0mscikit_learn\u001B[0m \u001B[1;32mimport\u001B[0m \u001B[0mKerasRegressor\u001B[0m\u001B[1;33m\u001B[0m\u001B[1;33m\u001B[0m\u001B[0m\n\u001B[0m\u001B[0;32m      2\u001B[0m \u001B[1;32mfrom\u001B[0m \u001B[0mkeras\u001B[0m\u001B[1;33m.\u001B[0m\u001B[0mmodels\u001B[0m \u001B[1;32mimport\u001B[0m \u001B[0mSequential\u001B[0m\u001B[1;33m\u001B[0m\u001B[1;33m\u001B[0m\u001B[0m\n\u001B[0;32m      3\u001B[0m \u001B[1;32mfrom\u001B[0m \u001B[0mkeras\u001B[0m\u001B[1;33m.\u001B[0m\u001B[0mlayers\u001B[0m \u001B[1;32mimport\u001B[0m \u001B[0mDense\u001B[0m\u001B[1;33m\u001B[0m\u001B[1;33m\u001B[0m\u001B[0m\n\u001B[0;32m      4\u001B[0m \u001B[1;32mfrom\u001B[0m \u001B[0mkeras\u001B[0m\u001B[1;33m.\u001B[0m\u001B[0mlayers\u001B[0m \u001B[1;32mimport\u001B[0m \u001B[0mDropout\u001B[0m\u001B[1;33m\u001B[0m\u001B[1;33m\u001B[0m\u001B[0m\n\u001B[0;32m      5\u001B[0m \u001B[0mepochs\u001B[0m \u001B[1;33m=\u001B[0m \u001B[1;36m1000\u001B[0m\u001B[1;33m\u001B[0m\u001B[1;33m\u001B[0m\u001B[0m\n",
      "\u001B[1;32m~\\.conda\\envs\\IAD-LABS\\lib\\site-packages\\keras\\__init__.py\u001B[0m in \u001B[0;36m<module>\u001B[1;34m\u001B[0m\n\u001B[0;32m     19\u001B[0m \"\"\"\n\u001B[0;32m     20\u001B[0m \u001B[1;31m# pylint: disable=unused-import\u001B[0m\u001B[1;33m\u001B[0m\u001B[1;33m\u001B[0m\u001B[0m\n\u001B[1;32m---> 21\u001B[1;33m \u001B[1;32mfrom\u001B[0m \u001B[0mtensorflow\u001B[0m\u001B[1;33m.\u001B[0m\u001B[0mpython\u001B[0m \u001B[1;32mimport\u001B[0m \u001B[0mtf2\u001B[0m\u001B[1;33m\u001B[0m\u001B[1;33m\u001B[0m\u001B[0m\n\u001B[0m\u001B[0;32m     22\u001B[0m \u001B[1;32mfrom\u001B[0m \u001B[0mkeras\u001B[0m \u001B[1;32mimport\u001B[0m \u001B[0mdistribute\u001B[0m\u001B[1;33m\u001B[0m\u001B[1;33m\u001B[0m\u001B[0m\n\u001B[0;32m     23\u001B[0m \u001B[1;33m\u001B[0m\u001B[0m\n",
      "\u001B[1;31mModuleNotFoundError\u001B[0m: No module named 'tensorflow'"
     ]
    }
   ],
   "source": [
    "from keras.wrappers.scikit_learn import KerasRegressor\n",
    "from keras.models import Sequential\n",
    "from keras.layers import Dense\n",
    "from keras.layers import Dropout\n",
    "epochs = 1000\n",
    "\n",
    "batch_size = int(y_train.shape[0] * .1)\n",
    "\n",
    "estimator = KerasRegressor(build_fn=BP_model, X=X_train, epochs=epochs, batch_size=batch_size, verbose=1)"
   ]
  },
  {
   "cell_type": "markdown",
   "metadata": {
    "id": "LNuDkJ0Mjol2"
   },
   "source": [
    "Тепер давайте навчимо нашу модель для **1000** епох. Слід зазначити, що процес підгонки відбувається дуже повільно. Тому труба зберегли таку модель у файл. Щоб заощадити час,  завантажимо підігнану модель. Якщо потрібно,  можна залишити параметр **fitting on True** рівним True, щоб оновити модель. Якщо потрібно,  можна залишити параметр **fitting_save on True**, щоб зберегти модель."
   ]
  },
  {
   "cell_type": "code",
   "execution_count": null,
   "metadata": {
    "id": "haQXc1LTjol2"
   },
   "outputs": [],
   "source": [
    "fitting = True\n",
    "fitting_save = True\n",
    "\n",
    "import pickle\n",
    "\n",
    "if fitting:\n",
    "    history=estimator.fit(X_train,y_train, validation_data=(X_test,y_test)) # Fitting model\n",
    "    if fitting_save:\n",
    "        # Save model\n",
    "        estimator.model.save('BP_saved_model.h5')\n",
    "        print(\"Saved model to disk\")\n",
    "        with open('history.pickle', 'wb') as f:\n",
    "            pickle.dump(history.history, f)\n",
    "# load model \n",
    "from keras.models import load_model\n",
    "\n",
    "# Instantiate the model as you please (we are not going to use this)\n",
    "estimator = KerasRegressor(build_fn=BP_model, X=X_train, epochs=epochs, batch_size=batch_size, verbose=1)\n",
    "# This is where you load the actual saved model into a new variable.\n",
    "estimator.model = load_model('BP_saved_model.h5')    \n",
    "with open('history.pickle', 'rb') as f:\n",
    "    history = pickle.load(f)\n",
    "print(\"Loaded model from disk\")"
   ]
  },
  {
   "cell_type": "markdown",
   "metadata": {
    "id": "AO7FOteTjol3"
   },
   "source": [
    "Покажемо динаміку втрат та валідації [**loss and validation loss dynamics**](https://machinelearningmastery.com/learning-curves-for-diagnosing-machine-learning-model-performance/)."
   ]
  },
  {
   "cell_type": "code",
   "execution_count": null,
   "metadata": {
    "id": "NI1esVXrjol4"
   },
   "outputs": [],
   "source": [
    "plt.figure()\n",
    "plt.plot(history['loss'], label='train')\n",
    "plt.plot(history['val_loss'], label='test')\n",
    "plt.ylabel('loss')\n",
    "plt.xlabel('epoch')\n",
    "#plt.plot(history.history['acc'], label='acc')\n",
    "#plt.plot(history.history['val_acc'], label='acc test')\n",
    "plt.legend()\n",
    "plt.show()"
   ]
  },
  {
   "cell_type": "markdown",
   "metadata": {
    "id": "tzi65ADDjol4"
   },
   "source": [
    "Отже нейромережа добре підігнана, і не спостерігається її надмірної адаптації. Давайте обчислимо прогноз навчальної (**res_train_ANN**) і тестової  (**res_test_ANN**) вибірки."
   ]
  },
  {
   "cell_type": "markdown",
   "metadata": {
    "id": "-OolwVvhjol4"
   },
   "source": [
    "\n",
    "Давайте обчислимо прогноз і зробимо зворотну нормалізацію до реального масштабу."
   ]
  },
  {
   "cell_type": "code",
   "execution_count": null,
   "metadata": {
    "id": "-LbcwXiijol5"
   },
   "outputs": [],
   "source": [
    "res_tr = estimator.predict(X_train)\n",
    "res_ts = estimator.predict(X_test)\n",
    "res_train_ANN = scaler_y.inverse_transform(res_tr.reshape(-1, 1)).flatten()\n",
    "res_test_ANN = scaler_y.inverse_transform(res_ts.reshape(-1, 1)).flatten()"
   ]
  },
  {
   "cell_type": "markdown",
   "metadata": {
    "id": "GO--0BBwjol5"
   },
   "source": [
    "Давайте порівняємо точність лінійної регресії та нейронної мережі."
   ]
  },
  {
   "cell_type": "code",
   "execution_count": null,
   "metadata": {
    "id": "0loru7LVjol6"
   },
   "outputs": [],
   "source": [
    "\n",
    "print(\"Correlation train\", np.corrcoef(res_train, res_train_ANN)[0,1])\n",
    "print(\"Correlation train\", np.corrcoef(res_test, res_test_ANN)[0,1])\n",
    "print('Mean Absolute Error:', metrics.mean_absolute_error(y_test, res_test_ANN))\n",
    "print('Mean Squared Error:', metrics.mean_squared_error(y_test, res_test_ANN))\n",
    "print('Root Mean Squared Error:', np.sqrt(metrics.mean_squared_error(y_test, res_test_ANN)))"
   ]
  },
  {
   "cell_type": "markdown",
   "metadata": {
    "id": "knCFLwJKjol7"
   },
   "source": [
    " Можна бачити, що отримано дещо кращі результати для нейронної мережі, ніж для лінійної регресії."
   ]
  },
  {
   "cell_type": "markdown",
   "metadata": {
    "id": "sh5LVW2ajol7"
   },
   "source": [
    "# Метод довгої короткочасної пам’яті Long Short-Term Memory - LSTM"
   ]
  },
  {
   "cell_type": "markdown",
   "metadata": {
    "id": "iwRiFqZ6jol8"
   },
   "source": [
    " На відміну від стандартних нейронних мереж, що передають інформацію, [**LSTM**](https://en.wikipedia.org/wiki/Long_short-term_memory) має зв'язки зворотного зв'язку. Він може обробляти не тільки окремі точки даних, а й цілі послідовності даних (наприклад, мовлення, відео чи часові ряди).\n",
    "\n",
    "У разі часових рядів нейронна мережа має один вхід і один вихід. Однак на вході повинен бути вектор значень часових рядів за попередній період часу."
   ]
  },
  {
   "cell_type": "markdown",
   "metadata": {
    "id": "YMoYLpC7jol8"
   },
   "source": [
    "<center>\n",
    "    <img src=\"https://cf-courses-data.s3.us.cloud-object-storage.appdomain.cloud/data-science-in-health-care-advanced-prognostication-using-by-neural-networks/LSTM.png\" width=\"1000\" alt=\"cognitiveclass.ai logo\"  />\n",
    "</center>"
   ]
  },
  {
   "cell_type": "markdown",
   "metadata": {
    "id": "AhN3dMeLjol9"
   },
   "source": [
    "Для цього нам слід перетворити вхідні набори даних у 3D -форму."
   ]
  },
  {
   "cell_type": "code",
   "execution_count": null,
   "metadata": {
    "id": "0qIDV-K9jol9"
   },
   "outputs": [],
   "source": [
    "train_x_LSTM = X_train.reshape((X_train.shape[0], 1, 14))\n",
    "test_x_LSTM = X_test.reshape((X_test.shape[0], 1, 14))"
   ]
  },
  {
   "cell_type": "markdown",
   "metadata": {
    "id": "dWhD97wRjol9"
   },
   "source": [
    "Давайте створимо нейронну мережу [**LSTM**](https://keras.io/api/layers/recurrent_layers/lstm/) що складається з одного шару LSTM та одного шару BP, як у попередньому випадку.\n",
    "As you can see, in this case our NN will consist of 7 LSTM and 7 BP neurons only. LSTM, що складається з одного шару LSTM та одного шару BP, як у попередньому випадку. Як бачите, у цьому випадку наша NN складатиметься лише з 7 нейронів LSTM і 7 нейронів шару BP ."
   ]
  },
  {
   "cell_type": "code",
   "execution_count": null,
   "metadata": {
    "id": "76Ui9g3ajol-"
   },
   "outputs": [],
   "source": [
    "from keras.layers import LSTM\n",
    "\n",
    "\n",
    "batch_size=int(y_train.shape[0]*.1)\n",
    "model = Sequential()\n",
    "model.add(LSTM(7, input_shape=(train_x_LSTM.shape[1], train_x_LSTM.shape[2])))\n",
    "model.add(Dropout(0.2))\n",
    "model.add(Dense(7, kernel_initializer='normal', activation='relu'))\n",
    "model.add(Dropout(0.2))\n",
    "model.add(Dense(y_train.shape[1])) #activation='sigmoid'\n",
    "model.compile(loss='mean_squared_error', optimizer='adam')\n",
    "#model.compile(loss='mae', optimizer='adam')"
   ]
  },
  {
   "cell_type": "markdown",
   "metadata": {
    "id": "IhsB8Thgjol_"
   },
   "source": [
    "Усі наступні етапи навчання, зберігання, читання та прогнозування подібні до тих, які ми використовували з попередньою нейронною мережею. Можна бачити, що всього 400 епох достатньо для LSTM."
   ]
  },
  {
   "cell_type": "code",
   "execution_count": null,
   "metadata": {
    "id": "MA8vKjjtjol_"
   },
   "outputs": [],
   "source": [
    "fitting = True\n",
    "fitting_save = True\n",
    "epochs = 400\n",
    "\n",
    "if fitting:\n",
    "    history = model.fit(train_x_LSTM, y_train, epochs=epochs, batch_size=batch_size, validation_data=(test_x_LSTM, y_test), verbose=1, shuffle=False)    \n",
    "    if fitting_save:\n",
    "    # serialize model to JSON\n",
    "        model_json = model.to_json()\n",
    "        with open(\"LSTM_model.json\", \"w\") as json_file:\n",
    "            json_file.write(model_json)\n",
    "        # serialize weights to HDF5\n",
    "        model.save_weights(\"LSTM_model.h5\")\n",
    "        print(\"Saved model to disk\")\n",
    "        with open('history_LSTM.pickle', 'wb') as f:\n",
    "            pickle.dump(history.history, f)\n",
    "# load model  \n",
    "from keras.models import model_from_json\n",
    "json_file = open('LSTM_model.json', 'r')\n",
    "loaded_model_json = json_file.read()\n",
    "json_file.close()\n",
    "model = model_from_json(loaded_model_json)\n",
    "# load weights into new model\n",
    "model.load_weights(\"LSTM_model.h5\")        \n",
    "with open('history_LSTM.pickle', 'rb') as f:\n",
    "    history = pickle.load(f)\n",
    "print(\"Loaded model from disk\")"
   ]
  },
  {
   "cell_type": "markdown",
   "metadata": {
    "id": "c57sZj-3jomA"
   },
   "source": [
    "\n",
    "Давайте побудуємо динаміку втрат та втрат значень, як у попередньому випадку. "
   ]
  },
  {
   "cell_type": "code",
   "execution_count": null,
   "metadata": {
    "id": "xtYXH_J9jomB"
   },
   "outputs": [],
   "source": [
    "##YOUR CODE GOES HERE## \n",
    "# plot history\n",
    "plt.figure()\n",
    "plt.plot(history['loss'], label='train')\n",
    "plt.plot(history['val_loss'], label='test')\n",
    "plt.ylabel('loss')\n",
    "plt.xlabel('epoch')\n",
    "\n",
    "plt.legend()\n",
    "plt.show()"
   ]
  },
  {
   "cell_type": "markdown",
   "metadata": {
    "id": "DMLKo9WvjomC"
   },
   "source": [
    "Let's calculate our forecast."
   ]
  },
  {
   "cell_type": "code",
   "execution_count": null,
   "metadata": {
    "id": "8_MeiODNjomD"
   },
   "outputs": [],
   "source": [
    "res_tr_LSTM = model.predict(train_x_LSTM)\n",
    "res_ts_LSTM = model.predict(test_x_LSTM)\n",
    "res_train_LSTM = scaler_y.inverse_transform(res_tr_LSTM).flatten()\n",
    "res_test_LSTM = scaler_y.inverse_transform(res_ts_LSTM).flatten()"
   ]
  },
  {
   "cell_type": "markdown",
   "metadata": {
    "id": "-IFuYbGajomE"
   },
   "source": [
    "And accuracy:"
   ]
  },
  {
   "cell_type": "code",
   "execution_count": null,
   "metadata": {
    "id": "D4XZ8Jj4jomE"
   },
   "outputs": [],
   "source": [
    "print(\"Correlation train\", np.corrcoef(res_train, res_train_LSTM)[0,1])\n",
    "print(\"Correlation train\", np.corrcoef(res_test, res_test_LSTM)[0,1])\n",
    "print('Mean Absolute Error:', metrics.mean_absolute_error(y_test, res_test_LSTM))\n",
    "print('Mean Squared Error:', metrics.mean_squared_error(y_test, res_test_LSTM))\n",
    "print('Root Mean Squared Error:', np.sqrt(metrics.mean_squared_error(y_test, res_test_LSTM)))"
   ]
  },
  {
   "cell_type": "markdown",
   "metadata": {
    "id": "qb_yfGj7jomF"
   },
   "source": [
    "As you can see, the forecast results of the test data set are much better than ones of the previous models. Let's visualize these 3 results:"
   ]
  },
  {
   "cell_type": "code",
   "execution_count": null,
   "metadata": {
    "id": "n_Th26YijomG"
   },
   "outputs": [],
   "source": [
    "res_pred_test_ln = pd.Series(y_pred_test_ln, name = 'Predicted test Linear Model')\n",
    "res_pred_test_ANN = pd.Series(res_test_ANN, name = 'Predicted test ANN')\n",
    "res_pred_test_LSTM = pd.Series(res_test_LSTM, name = 'Predicted test LSTM')\n",
    "\n",
    "df_2 = pd.DataFrame({'Actual test': res_test, 'Linear Model': res_pred_test_ln, 'ANN Model': res_pred_test_ANN,  'LSTM Model': res_pred_test_LSTM,})\n",
    "df_2.index = dataset.index[len(dataset)-len(res_test):]\n",
    "df_2.plot()\n",
    "plt.show()"
   ]
  },
  {
   "cell_type": "markdown",
   "metadata": {
    "id": "64RewTXJjomG"
   },
   "source": [
    "Бачимо,що модель LSTM дає ідеальний прогноз. Лінійна регресія - найшвидша модель прогнозування."
   ]
  },
  {
   "cell_type": "markdown",
   "metadata": {
    "id": "2eOeEz1KjomH"
   },
   "source": [
    "## Висновки"
   ]
  },
  {
   "cell_type": "markdown",
   "metadata": {
    "id": "jm7sFdApjomI"
   },
   "source": [
    "У цій лабораторній роботі розглянуто три типи моделей прогнозування. Реалізовано перетворення наборів даних для моделей введення-виведення. Здійснено нормалізація та обернена нормалізація для даних реального масштабу. Крім того,  продемонстровано, як розділити набори даних на навчальні та тестові. Показано, як побудувати моделі прогнозування часових рядів, використовуючи лагові перетворення. Розглянуто як встановлювати, зберігати та завантажувати різні типи нейронних мереж."
   ]
  },
  {
   "cell_type": "markdown",
   "metadata": {
    "tags": []
   },
   "source": [
    "# Індивідуальне завдання\n",
    "Реалізувати прогнозування за трьома моделями для групи країн з індивідуального завдання на основі даних https://ourworldindata.org/coronavirus. Результати порівняти.\n",
    "\n",
    "\n",
    "1. Реалізувати прогнозування поширення COVID-19 у групі скандинавських країн. \n",
    "\n",
    "2. Реалізувати прогнозування поширення COVID-19 у групі  країн Benelux. \n",
    "3. Реалізувати прогнозування поширення COVID-19 у групі  країн Європейського Союзу.\n",
    "\n",
    "4. Реалізувати прогнозування поширення COVID-19 у групі  країн, що повністю розташовані на Аравійському півострові. \n",
    "\n",
    "5. Реалізувати прогнозування поширення COVID-19 у групі  країн Південна Корея, Гонконг, Сінгапур, Тайвань. \n",
    "6. Реалізувати прогнозування поширення COVID-19 у групі  країн Монголія, Китай і Вєтнам. \n",
    "7. Реалізувати прогнозування поширення COVID-19 у групі  Африканських країн, що повністю лежать у північній півкулі. \n",
    "\n",
    "8. Реалізувати прогнозування поширення COVID-19 у групі  Африканських країн, що повністю лежать у південній півкулі. \n",
    "\n",
    "9. Реалізувати прогнозування поширення COVID-19 у групі країн Індія, Непал, Пакистан. \n",
    "\n",
    "10. Реалізувати прогнозування поширення COVID-19 у групі країн Південної Америки.\n",
    "\n",
    "11. Реалізувати прогнозування поширення COVID-19 у групі прибалтійських  країн. \n",
    "\n",
    "12. Реалізувати прогнозування поширення COVID-19 у групі  балканських країн. \n",
    "\n",
    "13. Реалізувати прогнозування поширення COVID-19 у групі країн Польща, Угорщина, Чехія, Словаччина, Словенія, Хорватія. \n",
    "14. Реалізувати прогнозування поширення COVID-19 у групі країн Болгарія, Румунія, Україна, Албанія, Македонія.\n",
    "\n",
    "15. Реалізувати прогнозування поширення COVID-19 у групі країн Канада, США, Мексика. "
   ]
  },
  {
   "cell_type": "code",
   "execution_count": null,
   "metadata": {},
   "outputs": [],
   "source": []
  }
 ],
 "metadata": {
  "colab": {
   "collapsed_sections": [
    "Jon2_2fsjok9",
    "OCAkVRmJjolG",
    "2eOeEz1KjomH",
    "-Rxf3iMqjomI"
   ],
   "name": "Lab3_12-08.ipynb",
   "provenance": [],
   "toc_visible": true
  },
  "kernelspec": {
   "name": "pycharm-ec03bee0",
   "language": "python",
   "display_name": "PyCharm (IAD-LABS)"
  },
  "language_info": {
   "codemirror_mode": {
    "name": "ipython",
    "version": 3
   },
   "file_extension": ".py",
   "mimetype": "text/x-python",
   "name": "python",
   "nbconvert_exporter": "python",
   "pygments_lexer": "ipython3",
   "version": "3.9.7"
  }
 },
 "nbformat": 4,
 "nbformat_minor": 4
}